{
 "cells": [
  {
   "cell_type": "markdown",
   "metadata": {},
   "source": [
    "# Data permutation for Chinese Name\n",
    "- source: https://stackoverflow.com/questions/44974782/python3-pandas-how-to-create-all-combinations-of-4-columns-and-write-them-in-r"
   ]
  },
  {
   "cell_type": "code",
   "execution_count": 1,
   "metadata": {},
   "outputs": [
    {
     "data": {
      "text/plain": [
       "50190"
      ]
     },
     "execution_count": 1,
     "metadata": {},
     "output_type": "execute_result"
    }
   ],
   "source": [
    "import pandas as pd\n",
    "import numpy as np \n",
    "import itertools\n",
    "import functools\n",
    "\n",
    "data = pd.read_csv('https://raw.githubusercontent.com/hankcs/HanLP/master/data/dictionary/custom/%E4%BA%BA%E5%90%8D%E8%AF%8D%E5%85%B8.txt', header = None)\n",
    "#data = pd.read_csv('https://raw.githubusercontent.com/fung1091/profile/master/worksample/combin.txt')\n",
    "data.columns = [\"a\"]\n",
    "#print (data.head())\n",
    "len(data)"
   ]
  },
  {
   "cell_type": "code",
   "execution_count": 39,
   "metadata": {},
   "outputs": [
    {
     "name": "stdout",
     "output_type": "stream",
     "text": [
      "      B0 B1 B2\n",
      "1      丁  一  宇\n",
      "2      丁  一  平\n",
      "3      丁  万  明\n",
      "4      丁  世  伟\n",
      "5      丁  世  芳\n",
      "6      丁  东  红\n",
      "7      丁  中  福\n",
      "8      丁  丽   \n",
      "9      丁  丽  丽\n",
      "10     丁  书  苗\n",
      "11     丁  二  春\n",
      "12     丁  云  川\n",
      "13     丁  五  一\n",
      "14     丁  亚  萍\n",
      "15     丁  亮   \n",
      "16     丁  以  婕\n",
      "17     丁  以  胜\n",
      "18     丁  伟   \n",
      "19     丁  伟  巍\n",
      "20     丁  伟  杰\n",
      "21     丁  佳  洁\n",
      "22     丁  俊  晖\n",
      "23     丁  俊  毅\n",
      "24     丁  健   \n",
      "25     丁  元  竹\n",
      "26     丁  克   \n",
      "27     丁  克  族\n",
      "28     丁  全  录\n",
      "29     丁  兰  萍\n",
      "30     丁  兴  来\n",
      "...   .. .. ..\n",
      "50160  龚  礼   \n",
      "50161  龚  祖  康\n",
      "50162  龚  祖  英\n",
      "50163  龚  秀  松\n",
      "50164  龚  维  芳\n",
      "50165  龚  羽  飞\n",
      "50166  龚  育  之\n",
      "50167  龚  自  珍\n",
      "50168  龚  良   \n",
      "50169  龚  艳  玲\n",
      "50170  龚  艳  菊\n",
      "50171  龚  莉   \n",
      "50172  龚  莉  萍\n",
      "50173  龚  萍   \n",
      "50174  龚  萨   \n",
      "50175  龚  蓓  苾\n",
      "50176  龚  蕾   \n",
      "50177  龚  警  官\n",
      "50178  龚  轩   \n",
      "50179  龚  辉   \n",
      "50180  龚  金  平\n",
      "50181  龚  金  秋\n",
      "50182  龚  铭   \n",
      "50183  龚  锐  云\n",
      "50184  龚  锣   \n",
      "50185  龚  阿  莉\n",
      "50186  龚  隽   \n",
      "50187  龚  雪   \n",
      "50188  龟  井  幸\n",
      "50189  唐  律  师\n",
      "\n",
      "[50189 rows x 3 columns]\n"
     ]
    },
    {
     "data": {
      "text/plain": [
       "50189"
      ]
     },
     "execution_count": 39,
     "metadata": {},
     "output_type": "execute_result"
    }
   ],
   "source": [
    "splitted = data['a'].apply(lambda x: pd.Series(list(x)))\n",
    "splitted.columns = ['B'+str(x) for x in splitted.columns]\n",
    "df2 = data.join(splitted)\n",
    "df2 = pd.DataFrame(df2.iloc[1:50190, 1:4])\n",
    "\n",
    "\n",
    "print(df2)\n",
    "len (df2)"
   ]
  },
  {
   "cell_type": "code",
   "execution_count": null,
   "metadata": {},
   "outputs": [],
   "source": []
  },
  {
   "cell_type": "code",
   "execution_count": null,
   "metadata": {},
   "outputs": [],
   "source": []
  },
  {
   "cell_type": "code",
   "execution_count": null,
   "metadata": {},
   "outputs": [],
   "source": []
  },
  {
   "cell_type": "code",
   "execution_count": 49,
   "metadata": {},
   "outputs": [
    {
     "name": "stdout",
     "output_type": "stream",
     "text": [
      "     B1\n",
      "1010  晓\n",
      "955   文\n",
      "630   尔\n",
      "751   建\n",
      "628   小\n",
      "795   德\n",
      "801   志\n",
      "180   克\n",
      "1102  某\n",
      "398   国\n",
      "1220  永\n",
      "32    丽\n",
      "993   明\n",
      "1302  海\n",
      "1485  玉\n",
      "2292  金\n",
      "2288  里\n",
      "606   家\n",
      "893   拉\n",
      "963   斯\n",
      "999   春\n",
      "474   大\n",
      "964   新\n",
      "242   利\n",
      "109   伟\n",
      "62    亚\n",
      "145   俊\n",
      "278   华\n",
      "565   子\n",
      "1698  立\n",
      "...  ..\n",
      "1925  茂\n",
      "1411  炳\n",
      "249   加\n",
      "337   君\n",
      "2298  鑫\n",
      "1019  普\n",
      "1041  曼\n",
      "1018  晨\n",
      "97    仲\n",
      "483   奇\n",
      "1054  木\n",
      "320   可\n",
      "2117  诺\n",
      "633   尚\n",
      "2145  贤\n",
      "2180  跃\n",
      "1554  瓦\n",
      "2497  高\n",
      "1921  若\n",
      "809   怀\n",
      "440   基\n",
      "1211  比\n",
      "528   威\n",
      "1490  玛\n",
      "41    乐\n",
      "451   塞\n",
      "1123  根\n",
      "2103  诗\n",
      "5     丁\n",
      "2315  铁\n",
      "\n",
      "[244 rows x 1 columns]\n"
     ]
    },
    {
     "data": {
      "text/plain": [
       "244"
      ]
     },
     "execution_count": 49,
     "metadata": {},
     "output_type": "execute_result"
    }
   ],
   "source": [
    "df3 = pd.DataFrame(df2.iloc[:, 1:2])\n",
    "df3['count'] = 1\n",
    "df3 = df3.groupby(['B1'], as_index=False).count()\n",
    "df3 = df3.sort_values(by=['count'], ascending=False) # sort the largest value\n",
    "df3 = df3[df3['count'] > 50] # remove the number less than 1\n",
    "df3 = pd.DataFrame(df3.iloc[:, 0:1])\n",
    "print (df3)\n",
    "len (df3)"
   ]
  },
  {
   "cell_type": "code",
   "execution_count": 50,
   "metadata": {},
   "outputs": [
    {
     "name": "stdout",
     "output_type": "stream",
     "text": [
      "     B2\n",
      "0      \n",
      "4     ·\n",
      "263   华\n",
      "881   斯\n",
      "654   平\n",
      "575   尔\n",
      "907   明\n",
      "986   林\n",
      "875   文\n",
      "1403  生\n",
      "187   军\n",
      "725   德\n",
      "19    东\n",
      "1302  特\n",
      "95    伟\n",
      "2265  龙\n",
      "615   峰\n",
      "695   强\n",
      "1964  辉\n",
      "1719  英\n",
      "982   杰\n",
      "1095  民\n",
      "162   克\n",
      "379   国\n",
      "813   拉\n",
      "1139  波\n",
      "1739  荣\n",
      "1567  红\n",
      "1035  梅\n",
      "218   刚\n",
      "...  ..\n",
      "229   力\n",
      "626   川\n",
      "1979  远\n",
      "6     一\n",
      "1956  轩\n",
      "1507  秀\n",
      "2189  颖\n",
      "971   权\n",
      "1516  称\n",
      "518   子\n",
      "636   巴\n",
      "98    伦\n",
      "166   全\n",
      "978   来\n",
      "1363  琪\n",
      "1748  莎\n",
      "1165  浩\n",
      "1132  河\n",
      "280   卿\n",
      "412   城\n",
      "933   普\n",
      "683   建\n",
      "1532  章\n",
      "489   威\n",
      "1082  正\n",
      "2134  雅\n",
      "644   希\n",
      "1978  进\n",
      "1144  洁\n",
      "359   喜\n",
      "\n",
      "[178 rows x 1 columns]\n"
     ]
    },
    {
     "data": {
      "text/plain": [
       "178"
      ]
     },
     "execution_count": 50,
     "metadata": {},
     "output_type": "execute_result"
    }
   ],
   "source": [
    "df4 = pd.DataFrame(df2.iloc[:, 2:3])\n",
    "df4['count'] = 1\n",
    "df4 = df4.groupby(['B2'], as_index=False).count()\n",
    "df4 = df4.sort_values(by=['count'], ascending=False) # sort the largest value\n",
    "df4 = df4[df4['count'] > 50] # remove the number less than 1\n",
    "df4 = pd.DataFrame(df4.iloc[:, 0:1])\n",
    "print (df4)\n",
    "len (df4)"
   ]
  },
  {
   "cell_type": "code",
   "execution_count": null,
   "metadata": {},
   "outputs": [],
   "source": []
  },
  {
   "cell_type": "code",
   "execution_count": null,
   "metadata": {},
   "outputs": [],
   "source": []
  },
  {
   "cell_type": "code",
   "execution_count": null,
   "metadata": {},
   "outputs": [],
   "source": []
  },
  {
   "cell_type": "code",
   "execution_count": null,
   "metadata": {},
   "outputs": [],
   "source": []
  },
  {
   "cell_type": "code",
   "execution_count": null,
   "metadata": {},
   "outputs": [],
   "source": [
    "def char_frequency(str1):\n",
    "    dict = {}\n",
    "    for n in str1:\n",
    "        keys = dict.keys()\n",
    "        if n in keys:\n",
    "            dict[n] += 1\n",
    "        else:\n",
    "            dict[n] = 1\n",
    "    return dict\n",
    "char_frequency(dff)"
   ]
  },
  {
   "cell_type": "code",
   "execution_count": null,
   "metadata": {},
   "outputs": [],
   "source": [
    "df2"
   ]
  },
  {
   "cell_type": "code",
   "execution_count": null,
   "metadata": {},
   "outputs": [],
   "source": [
    "#cars_for_sell = [line.replace(\"\\n\", \"\") for line in open(\"cars_for_sell.txt\")]\n",
    "common_words = get_top_n_words(cars_for_sell, 20)\n",
    "for word, freq in common_words:\n",
    "    print(word, freq)"
   ]
  },
  {
   "cell_type": "code",
   "execution_count": null,
   "metadata": {},
   "outputs": [],
   "source": []
  },
  {
   "cell_type": "code",
   "execution_count": null,
   "metadata": {},
   "outputs": [],
   "source": []
  },
  {
   "cell_type": "code",
   "execution_count": null,
   "metadata": {},
   "outputs": [],
   "source": [
    "#pd.DataFrame(df2.iloc[1:1000, 1:4])"
   ]
  },
  {
   "cell_type": "code",
   "execution_count": null,
   "metadata": {},
   "outputs": [],
   "source": [
    "df3 = pd.DataFrame(df2.iloc[:, 0:1])\n",
    "df3.head()"
   ]
  },
  {
   "cell_type": "code",
   "execution_count": null,
   "metadata": {},
   "outputs": [],
   "source": [
    "df6 = df3['B0'].unique()\n",
    "df7 = pd.DataFrame({'B0':df6})\n",
    "df7"
   ]
  },
  {
   "cell_type": "code",
   "execution_count": null,
   "metadata": {},
   "outputs": [],
   "source": [
    "df4 = pd.DataFrame(df2.iloc[:, 1:2])\n",
    "df5 = pd.DataFrame(df2.iloc[:, 2:3])\n",
    "#print (df4.head())\n",
    "#print (df5.head())\n",
    "df4 = df4['B1'].unique()\n",
    "df8 = pd.DataFrame({'B1':df4})\n",
    "print (df8)\n",
    "df5 = df5['B2'].unique()\n",
    "df9 = pd.DataFrame({'B2':df5})\n",
    "print (df9)"
   ]
  },
  {
   "cell_type": "code",
   "execution_count": null,
   "metadata": {},
   "outputs": [],
   "source": []
  },
  {
   "cell_type": "code",
   "execution_count": null,
   "metadata": {},
   "outputs": [],
   "source": [
    "df8 = df5['B2'].unique()\n",
    "df8"
   ]
  },
  {
   "cell_type": "code",
   "execution_count": null,
   "metadata": {},
   "outputs": [],
   "source": [
    "a = [\"foo\", \"melon\"]\n",
    "b = [True, False]\n",
    "c = list(itertools.product(a, b))\n",
    "c"
   ]
  },
  {
   "cell_type": "code",
   "execution_count": null,
   "metadata": {},
   "outputs": [],
   "source": [
    "d = list(itertools.product(df6, df7))\n",
    "d"
   ]
  },
  {
   "cell_type": "code",
   "execution_count": null,
   "metadata": {},
   "outputs": [],
   "source": [
    "e = list(itertools.product(d, df8))\n",
    "e"
   ]
  },
  {
   "cell_type": "code",
   "execution_count": null,
   "metadata": {},
   "outputs": [],
   "source": [
    "pd.DataFrame.from_dict(e)"
   ]
  },
  {
   "cell_type": "code",
   "execution_count": null,
   "metadata": {},
   "outputs": [],
   "source": [
    "def cartesian(df1, df2):\n",
    "    rows = itertools.product(df1.iterrows(), df2.iterrows())   \n",
    "    #print (rows)\n",
    "    df = pd.DataFrame(left.append(right) for (_, left), (_, right) in rows)\n",
    "    print (rows)\n",
    "    return df.reset_index(drop=True)"
   ]
  },
  {
   "cell_type": "code",
   "execution_count": null,
   "metadata": {},
   "outputs": [],
   "source": [
    "count = 0\n",
    "#for xxx in xxxx:\n",
    "#    count += 1\n",
    "#    if count % 100 == 0:\n",
    "#        print (count)"
   ]
  },
  {
   "cell_type": "code",
   "execution_count": null,
   "metadata": {},
   "outputs": [],
   "source": []
  },
  {
   "cell_type": "code",
   "execution_count": null,
   "metadata": {},
   "outputs": [],
   "source": [
    "combined = functools.reduce(cartesian, [df7, df8, df9])"
   ]
  },
  {
   "cell_type": "code",
   "execution_count": null,
   "metadata": {},
   "outputs": [],
   "source": [
    "len(combined)"
   ]
  },
  {
   "cell_type": "code",
   "execution_count": null,
   "metadata": {},
   "outputs": [],
   "source": [
    "print (combined)"
   ]
  },
  {
   "cell_type": "code",
   "execution_count": null,
   "metadata": {},
   "outputs": [],
   "source": []
  }
 ],
 "metadata": {
  "kernelspec": {
   "display_name": "Python 3",
   "language": "python",
   "name": "python3"
  },
  "language_info": {
   "codemirror_mode": {
    "name": "ipython",
    "version": 3
   },
   "file_extension": ".py",
   "mimetype": "text/x-python",
   "name": "python",
   "nbconvert_exporter": "python",
   "pygments_lexer": "ipython3",
   "version": "3.7.1"
  }
 },
 "nbformat": 4,
 "nbformat_minor": 2
}
