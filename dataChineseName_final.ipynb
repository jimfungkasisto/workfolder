{
 "cells": [
  {
   "cell_type": "markdown",
   "metadata": {},
   "source": [
    "# Data permutation and combination for Chinese Name"
   ]
  },
  {
   "cell_type": "code",
   "execution_count": null,
   "metadata": {},
   "outputs": [],
   "source": []
  },
  {
   "cell_type": "markdown",
   "metadata": {},
   "source": [
    "# Loading the dataset "
   ]
  },
  {
   "cell_type": "code",
   "execution_count": 332,
   "metadata": {},
   "outputs": [
    {
     "data": {
      "text/plain": [
       "50190"
      ]
     },
     "execution_count": 332,
     "metadata": {},
     "output_type": "execute_result"
    }
   ],
   "source": [
    "import pandas as pd\n",
    "import numpy as np \n",
    "import itertools\n",
    "import functools\n",
    "\n",
    "data = pd.read_csv('https://raw.githubusercontent.com/hankcs/HanLP/master/data/dictionary/custom/%E4%BA%BA%E5%90%8D%E8%AF%8D%E5%85%B8.txt', header = None)\n",
    "#data = pd.read_csv('https://raw.githubusercontent.com/fung1091/profile/master/worksample/combin.txt')\n",
    "data.columns = [\"a\"]\n",
    "#print (data.head())\n",
    "len(data)"
   ]
  },
  {
   "cell_type": "markdown",
   "metadata": {},
   "source": [
    "# Data cleaning and transfer into dataframe"
   ]
  },
  {
   "cell_type": "code",
   "execution_count": 333,
   "metadata": {},
   "outputs": [
    {
     "name": "stdout",
     "output_type": "stream",
     "text": [
      "  B0 B1 B2\n",
      "1  丁  一  宇\n",
      "2  丁  一  平\n",
      "3  丁  万  明\n",
      "4  丁  世  伟\n",
      "5  丁  世  芳\n"
     ]
    },
    {
     "data": {
      "text/plain": [
       "50189"
      ]
     },
     "execution_count": 333,
     "metadata": {},
     "output_type": "execute_result"
    }
   ],
   "source": [
    "splitted = data['a'].apply(lambda x: pd.Series(list(x)))\n",
    "splitted.columns = ['B'+str(x) for x in splitted.columns]\n",
    "df2 = data.join(splitted)\n",
    "df2 = pd.DataFrame(df2.iloc[1:50191, 1:4])\n",
    "\n",
    "\n",
    "print(df2.head())\n",
    "len (df2)"
   ]
  },
  {
   "cell_type": "code",
   "execution_count": 334,
   "metadata": {},
   "outputs": [],
   "source": [
    "# character of last name\n",
    "#df3 = pd.DataFrame(df2.iloc[:, 0:1])\n",
    "#df3 = df3['B0'].unique()\n",
    "#df3 = pd.DataFrame({'B0':df3})\n",
    "#print (df3.head())\n",
    "#len (df3)\n",
    "#print(df3.to_csv(r'last_name.txt', header=None, index=None, sep=' ', mode='a'))"
   ]
  },
  {
   "cell_type": "markdown",
   "metadata": {},
   "source": [
    "## Extract the last name and count the frequency, then remove less than 5 "
   ]
  },
  {
   "cell_type": "code",
   "execution_count": 335,
   "metadata": {},
   "outputs": [
    {
     "name": "stdout",
     "output_type": "stream",
     "text": [
      "    B0\n",
      "568  王\n",
      "449  李\n",
      "350  张\n",
      "875  陈\n",
      "126  刘\n",
      "None\n"
     ]
    }
   ],
   "source": [
    "# character of last name\n",
    "df3 = pd.DataFrame(df2.iloc[:, 0:1])\n",
    "df3['count'] = 1\n",
    "df3 = df3.groupby(['B0'], as_index=False).count()\n",
    "df3 = df3.sort_values(by=['count'], ascending=False) # sort the largest value\n",
    "df3 = df3[df3['count'] > 5] # remove the number less than 1\n",
    "df3 = pd.DataFrame(df3.iloc[:, 0:1]) # remove counter column\n",
    "print (df3.head())\n",
    "\n",
    "#len (df3)\n",
    "# Export dataframe to txt file\n",
    "print(df3.to_csv(r'last_name.txt', header=None, index=None, sep=' ', mode='a'))"
   ]
  },
  {
   "cell_type": "markdown",
   "metadata": {},
   "source": [
    "The number of first name:"
   ]
  },
  {
   "cell_type": "code",
   "execution_count": 336,
   "metadata": {},
   "outputs": [
    {
     "data": {
      "text/plain": [
       "528"
      ]
     },
     "execution_count": 336,
     "metadata": {},
     "output_type": "execute_result"
    }
   ],
   "source": [
    "len(df3)"
   ]
  },
  {
   "cell_type": "markdown",
   "metadata": {},
   "source": [
    "## Extract first character of first name and count the frequency, then remove less than 12"
   ]
  },
  {
   "cell_type": "code",
   "execution_count": 337,
   "metadata": {},
   "outputs": [
    {
     "name": "stdout",
     "output_type": "stream",
     "text": [
      "     B1\n",
      "1010  晓\n",
      "955   文\n",
      "630   尔\n",
      "751   建\n",
      "628   小\n"
     ]
    },
    {
     "data": {
      "text/plain": [
       "679"
      ]
     },
     "execution_count": 337,
     "metadata": {},
     "output_type": "execute_result"
    }
   ],
   "source": [
    "# first character of first name\n",
    "df4 = pd.DataFrame(df2.iloc[:, 1:2])\n",
    "df4['count'] = 1\n",
    "df4 = df4.groupby(['B1'], as_index=False).count()\n",
    "df4 = df4.sort_values(by=['count'], ascending=False) # sort the largest value\n",
    "df4 = df4[df4['count'] > 12] # remove the number less than 1\n",
    "df4 = pd.DataFrame(df4.iloc[:, 0:1])\n",
    "print (df4.head())\n",
    "len (df4)"
   ]
  },
  {
   "cell_type": "markdown",
   "metadata": {},
   "source": [
    "## Extract second character of first name and count the frequency, then remove less than 12"
   ]
  },
  {
   "cell_type": "markdown",
   "metadata": {},
   "source": [
    "#### Drop symbol function"
   ]
  },
  {
   "cell_type": "code",
   "execution_count": 338,
   "metadata": {},
   "outputs": [],
   "source": [
    "# Drop symbol function \n",
    "\n",
    "def drop(df, column):\n",
    "\n",
    "    \n",
    "    #drop('·') & - symbol and empty \n",
    "    indexNames = df5[df5['B2'] == ' '].index\n",
    " \n",
    "    # Delete these row indexes from dataFrame\n",
    "    df5.drop(indexNames , inplace=True)\n",
    "\n",
    "    indexNames1 = df5[df5['B2'] == '·'].index\n",
    " \n",
    "    # Delete these row indexes from dataFrame\n",
    "    df5.drop(indexNames1 , inplace=True)\n",
    "\n",
    "    indexNames2 = df5[df5['B2'] == '-'].index\n",
    " \n",
    "    # Delete these row indexes from dataFrame\n",
    "    df5.drop(indexNames2 , inplace=True)\n",
    "\n",
    "    indexNames2 = df5[df5['B2'] == '—'].index\n",
    " \n",
    "    # Delete these row indexes from dataFrame\n",
    "    df5.drop(indexNames2 , inplace=True)"
   ]
  },
  {
   "cell_type": "code",
   "execution_count": 339,
   "metadata": {},
   "outputs": [
    {
     "data": {
      "text/plain": [
       "528"
      ]
     },
     "execution_count": 339,
     "metadata": {},
     "output_type": "execute_result"
    }
   ],
   "source": [
    "# last name\n",
    "drop(df3, 'B0')\n",
    "len(df3)"
   ]
  },
  {
   "cell_type": "code",
   "execution_count": 340,
   "metadata": {},
   "outputs": [
    {
     "data": {
      "text/plain": [
       "679"
      ]
     },
     "execution_count": 340,
     "metadata": {},
     "output_type": "execute_result"
    }
   ],
   "source": [
    "# first character of first name\n",
    "drop(df4, 'B1')\n",
    "len(df4)"
   ]
  },
  {
   "cell_type": "code",
   "execution_count": 341,
   "metadata": {},
   "outputs": [
    {
     "data": {
      "text/plain": [
       "524"
      ]
     },
     "execution_count": 341,
     "metadata": {},
     "output_type": "execute_result"
    }
   ],
   "source": [
    "# second character of first name\n",
    "drop(df5, 'B2')\n",
    "len(df5)"
   ]
  },
  {
   "cell_type": "code",
   "execution_count": 342,
   "metadata": {},
   "outputs": [
    {
     "name": "stdout",
     "output_type": "stream",
     "text": [
      "DataFrame is no empty!\n"
     ]
    }
   ],
   "source": [
    "if df5.empty:\n",
    "    print('DataFrame is empty!')\n",
    "else:\n",
    "    print('DataFrame is no empty!')"
   ]
  },
  {
   "cell_type": "code",
   "execution_count": 343,
   "metadata": {},
   "outputs": [
    {
     "name": "stdout",
     "output_type": "stream",
     "text": [
      "DataFrame is no empty!\n",
      "DataFrame is no empty!\n",
      "DataFrame is no empty!\n"
     ]
    }
   ],
   "source": [
    "# check empty rows\n",
    "def emptyrows(df):\n",
    "    if df.empty:\n",
    "        print('DataFrame is empty!')\n",
    "    else:\n",
    "        print('DataFrame is no empty!')\n",
    "        \n",
    "emptyrows(df3)\n",
    "emptyrows(df4)\n",
    "emptyrows(df5)\n"
   ]
  },
  {
   "cell_type": "code",
   "execution_count": 344,
   "metadata": {},
   "outputs": [
    {
     "name": "stdout",
     "output_type": "stream",
     "text": [
      "Total number of first name is 355796\n"
     ]
    }
   ],
   "source": [
    "Totalnum = len(df4)*len(df5)\n",
    "\n",
    "print (\"Total number of first name is {}\".format(Totalnum))"
   ]
  },
  {
   "cell_type": "markdown",
   "metadata": {},
   "source": [
    "## Export to txt for translation"
   ]
  },
  {
   "cell_type": "code",
   "execution_count": 345,
   "metadata": {},
   "outputs": [
    {
     "name": "stdout",
     "output_type": "stream",
     "text": [
      "None\n",
      "None\n",
      "None\n"
     ]
    }
   ],
   "source": [
    "print(df3.to_csv(r'last.txt', header=None, index=None, sep=' ', mode='a'))\n",
    "print(df4.to_csv(r'firstname_12_one.txt', header=None, index=None, sep=' ', mode='a'))\n",
    "print(df5.to_csv(r'firstname_12_second.txt', header=None, index=None, sep=' ', mode='a'))"
   ]
  },
  {
   "cell_type": "markdown",
   "metadata": {},
   "source": [
    "# Translate from simple chinese to traditional chinese\n",
    "From txt file to txt file"
   ]
  },
  {
   "cell_type": "code",
   "execution_count": 346,
   "metadata": {},
   "outputs": [],
   "source": [
    "from hanziconv import HanziConv\n",
    "import pandas as pd\n",
    "\n",
    "def Translate_value(txt_org, txt_new, num):\n",
    "    with open(txt_org, 'r') as f:\n",
    "        myNames = [line.strip() for line in f]\n",
    "        str1 = ''.join(myNames)\n",
    "        z = HanziConv.toTraditional(str1)\n",
    "        x= num # last name = 1, first name =2\n",
    "        res=[z[y-x:y] for y in range(x, len(z)+x,x)]\n",
    "        with open(txt_new, 'w') as f:\n",
    "            for item in res:\n",
    "                f.write(\"%s\\n\" % item)"
   ]
  },
  {
   "cell_type": "code",
   "execution_count": 347,
   "metadata": {},
   "outputs": [],
   "source": [
    "#last_name.txt\n",
    "Translate_value('last.txt','last_TC.txt', 1)\n",
    "#first character of first name\n",
    "Translate_value('firstname_12_one.txt','firstname_12_one_TC.txt', 1)\n",
    "#second character of first name\n",
    "Translate_value('firstname_12_second.txt','firstname_12_second_TC.txt', 1)"
   ]
  },
  {
   "cell_type": "code",
   "execution_count": 348,
   "metadata": {},
   "outputs": [
    {
     "name": "stdout",
     "output_type": "stream",
     "text": [
      "   0\n",
      "0  曉\n",
      "1  文\n",
      "2  爾\n",
      "3  建\n",
      "4  小\n",
      "   0\n",
      "0  王\n",
      "1  李\n",
      "2  張\n",
      "3  陳\n",
      "4  劉\n",
      "   0\n",
      "0  華\n",
      "1  斯\n",
      "2  平\n",
      "3  爾\n",
      "4  明\n"
     ]
    }
   ],
   "source": [
    "d = {'last_TC.txt','firstname_12_one_TC.txt','firstname_12_second_TC.txt'}\n",
    "\n",
    "for i in d:\n",
    "    dffr = pd.read_csv(i, sep=\" \", header=None,)\n",
    "    print (dffr.head())"
   ]
  },
  {
   "cell_type": "markdown",
   "metadata": {},
   "source": [
    "# Testing accuracy"
   ]
  },
  {
   "cell_type": "code",
   "execution_count": 349,
   "metadata": {},
   "outputs": [],
   "source": [
    "def Testing(txt_org, txt_new):\n",
    "    # Convert to String\n",
    "    with open(txt_org, 'r') as f:\n",
    "        myNames2 = [line.strip() for line in f]\n",
    "        str2 = ''.join(myNames2)\n",
    "        #print (myNames2)\n",
    "    with open(txt_new, 'r') as f:\n",
    "        myNames3 = [line.strip() for line in f]\n",
    "        str3 = ''.join(myNames3)\n",
    "        #print (myNames3)\n",
    "    print (HanziConv.same(str2, str3))\n",
    "    compare_different(str2, str3)\n",
    "    "
   ]
  },
  {
   "cell_type": "code",
   "execution_count": 350,
   "metadata": {},
   "outputs": [],
   "source": [
    "# Compare strings\n",
    "def compare_different(question_old, question_new):\n",
    "    ALL_CHAR = set()\n",
    "    if question_old != question_new:\n",
    "        print(\"========\")\n",
    "        set_old = set(question_old)\n",
    "        set_new = set(question_new)\n",
    "        print(set_old-set_new)\n",
    "        print(set_new-set_old)\n",
    "        for element in set_new-set_old:\n",
    "            ALL_CHAR.add(element)\n",
    "        print(\"========\")"
   ]
  },
  {
   "cell_type": "code",
   "execution_count": 351,
   "metadata": {},
   "outputs": [
    {
     "name": "stdout",
     "output_type": "stream",
     "text": [
      "True\n",
      "========\n",
      "{'畅', '韩', '纽', '毕', '劳', '钟', '孙', '闵', '内', '谈', '东', '寿', '余', '马', '阳', '宫', '岳', '银', '刘', '维', '麦', '汉', '库', '蔺', '晋', '诺', '宾', '纪', '里', '云', '蓝', '巩', '乐', '爱', '齐', '满', '邝', '姜', '单', '练', '钮', '铁', '达', '诸', '胡', '权', '蒋', '迟', '凤', '乌', '陆', '严', '陈', '费', '时', '赵', '松', '乔', '凯', '怀', '顾', '缪', '区', '庄', '琼', '别', '涂', '卜', '盖', '丛', '凌', '贾', '储', '荣', '赛', '绍', '约', '冯', '苏', '应', '纳', '汤', '叶', '宁', '杨', '连', '关', '温', '萧', '农', '伦', '邬', '杰', '于', '谢', '贡', '帅', '萨', '郁', '兴', '亚', '项', '邹', '蒙', '吕', '赖', '广', '庞', '吴', '习', '郑', '贝', '让', '经', '舍', '车', '卫', '欧', '华', '闻', '简', '向', '迈', '邓', '国', '谷', '许', '窦', '鲁', '钱', '娄', '闫', '丰', '范', '莱', '优', '谌', '才', '宝', '千', '尔', '荆', '兰', '泽', '贺', '万', '卢', '买', '强', '龙', '楼', '骆', '饶', '黄', '热', '党', '曲', '阎', '聂', '回', '克', '扎', '朴', '边', '师', '游', '扬', '奥', '门', '沈', '丽', '张', '罗', '鲍', '来', '朱', '阙', '励', '圣', '韦', '颜', '图', '谭', '龚', '玛'}\n",
      "{'歐', '習', '許', '關', '維', '濛', '饒', '馬', '榖', '闕', '陽', '麯', '簡', '熱', '蔔', '暢', '區', '陸', '豐', '瀋', '賈', '瓊', '餘', '瑪', '莊', '韋', '庫', '權', '鬍', '練', '劉', '賽', '帥', '塗', '讓', '鬱', '錢', '談', '榮', '國', '呂', '滿', '寜', '雲', '紹', '聞', '鄒', '倫', '蓋', '纔', '達', '剋', '賀', '鞏', '納', '孫', '連', '聖', '費', '顧', '來', '勞', '勵', '諸', '師', '淩', '強', '蕭', '萬', '韆', '嶽', '紀', '鄭', '壽', '婁', '龔', '顔', '圖', '晉', '閆', '蔣', '鄧', '約', '時', '單', '樓', '麗', '諶', '遊', '葉', '賴', '盧', '迴', '於', '藺', '羅', '鄔', '楊', '經', '凱', '湯', '鮑', '陳', '趙', '鳳', '藍', '龍', '蘭', '烏', '譚', '懷', '衛', '鬆', '車', '嚮', '紮', '鍾', '喬', '薩', '薑', '貝', '裏', '揚', '荊', '硃', '閔', '門', '澤', '寶', '萊', '農', '謝', '溫', '龐', '黃', '竇', '應', '興', '爾', '諾', '鐵', '魯', '韓', '項', '鄺', '儲', '嚴', '銀', '內', '貢', '叢', '傑', '買', '蘇', '廣', '亞', '閻', '邁', '華', '畢', '黨', '東', '繆', '宮', '優', '鈕', '漢', '賓', '彆', '遲', '愛', '聶', '吳', '馮', '駱', '樸', '齊', '奧', '捨', '紐', '範', '麥', '樂', '邊', '張'}\n",
      "========\n"
     ]
    }
   ],
   "source": [
    "# last_name\n",
    "# 'last.txt','last_TC.txt'\n",
    "Testing('last.txt','last_TC.txt')"
   ]
  },
  {
   "cell_type": "code",
   "execution_count": 352,
   "metadata": {},
   "outputs": [
    {
     "name": "stdout",
     "output_type": "stream",
     "text": [
      "True\n",
      "========\n",
      "{'畅', '梦', '冬', '顿', '澜', '继', '纯', '劳', '钟', '锦', '内', '顺', '树', '东', '寿', '阳', '风', '马', '聪', '钧', '谦', '岳', '银', '维', '则', '麦', '远', '汉', '库', '悦', '晋', '诺', '园', '纪', '宾', '里', '云', '历', '乐', '济', '胜', '欢', '爱', '传', '为', '齐', '炜', '宪', '满', '韵', '铁', '达', '会', '权', '晓', '凤', '铭', '军', '显', '志', '瑶', '灵', '晖', '陈', '时', '松', '轶', '乔', '钰', '凯', '怀', '联', '鹏', '坚', '潇', '焕', '发', '艳', '咏', '庄', '琼', '娅', '圆', '彦', '兹', '卜', '导', '伟', '劲', '勋', '凌', '荣', '绍', '赛', '诚', '滨', '腾', '莲', '镇', '润', '隽', '苏', '绪', '应', '纳', '贤', '义', '宁', '叶', '杨', '献', '连', '农', '伦', '书', '洁', '鸿', '杰', '业', '从', '帅', '萨', '开', '兴', '刚', '亚', '礼', '桥', '静', '蒙', '轩', '广', '枫', '贝', '骏', '跃', '涛', '经', '辉', '卫', '钦', '华', '向', '冲', '长', '国', '莹', '谷', '红', '艺', '鲁', '剑', '灿', '姗', '丰', '莱', '贵', '钊', '才', '宝', '千', '尔', '峥', '家', '兰', '鸣', '合', '泽', '飞', '选', '岛', '钢', '贺', '万', '买', '强', '复', '当', '庆', '龙', '硕', '进', '学', '玛', '竞', '岗', '黄', '诗', '烨', '双', '启', '鹤', '克', '丝', '扎', '颖', '运', '芸', '秋', '锐', '锋', '边', '师', '扬', '奥', '门', '岚', '丽', '罗', '玮', '来', '圣', '栋', '韦', '干', '征', '图', '啸'}\n",
      "{'為', '義', '瀾', '維', '濛', '馬', '榖', '陽', '歡', '蓮', '瑩', '蔔', '暢', '豐', '徵', '濤', '瓊', '瀟', '瑪', '莊', '韋', '庫', '權', '瑋', '運', '帥', '賽', '靜', '貴', '勛', '潔', '燁', '榮', '國', '茲', '軼', '鼕', '島', '誌', '軒', '韻', '滿', '寜', '雲', '紹', '則', '崗', '鋼', '鋒', '楓', '倫', '纔', '曆', '剋', '達', '賀', '圓', '納', '開', '連', '聖', '暉', '勁', '來', '勞', '雙', '師', '淩', '強', '飛', '萬', '韆', '鈞', '嶽', '賢', '紀', '傢', '彥', '壽', '銘', '鴻', '聰', '雋', '風', '圖', '晉', '穎', '軍', '鈺', '欽', '時', '誠', '麗', '葉', '傳', '進', '騰', '頓', '羅', '靈', '潤', '楊', '經', '純', '凱', '錦', '濱', '聯', '陳', '鳳', '慶', '龍', '蘭', '瑤', '煒', '復', '偉', '懷', '衛', '啓', '鬆', '業', '嚮', '悅', '謙', '禮', '駿', '紮', '鍾', '緒', '喬', '曉', '薩', '顯', '貝', '鎮', '裏', '揚', '門', '絲', '澤', '當', '寶', '萊', '農', '黃', '長', '燦', '鞦', '應', '興', '諾', '鐵', '魯', '煥', '蕓', '爾', '園', '發', '銀', '內', '鵬', '會', '嵐', '藝', '鶴', '夢', '詩', '釗', '傑', '導', '競', '買', '蘇', '廣', '閤', '繼', '亞', '橋', '嘯', '華', '東', '銳', '漢', '賓', '濟', '愛', '艷', '輝', '從', '姍', '勝', '碩', '遠', '選', '鳴', '書', '躍', '崢', '婭', '學', '奧', '齊', '堅', '順', '衝', '棟', '劍', '麥', '樂', '剛', '詠', '樹', '邊', '憲', '紅', '獻'}\n",
      "========\n"
     ]
    }
   ],
   "source": [
    "# first character of first name\n",
    "# 'firstname_12_one.txt','firstname_12_one_TC.txt'\n",
    "Testing('firstname_12_one.txt','firstname_12_one_TC.txt')"
   ]
  },
  {
   "cell_type": "code",
   "execution_count": 353,
   "metadata": {},
   "outputs": [
    {
     "name": "stdout",
     "output_type": "stream",
     "text": [
      "True\n",
      "========\n",
      "{'顿', '冬', '纯', '钟', '锦', '内', '顺', '东', '寿', '余', '风', '阳', '聪', '马', '钧', '谦', '银', '维', '汉', '库', '远', '诺', '园', '宾', '里', '声', '云', '图', '乐', '济', '胜', '欢', '传', '为', '齐', '宪', '满', '达', '会', '权', '晓', '凤', '铭', '举', '军', '志', '瑶', '灵', '晖', '时', '松', '乔', '钰', '凯', '怀', '宽', '鹏', '坚', '璇', '焕', '发', '艳', '韬', '庄', '琼', '营', '娅', '圆', '彦', '兹', '盖', '伟', '勋', '凌', '荣', '诚', '滨', '莲', '镇', '苏', '纳', '贤', '龄', '义', '宁', '叶', '杨', '连', '农', '伦', '书', '洁', '鸿', '杰', '业', '帅', '萨', '开', '兴', '刚', '亚', '礼', '桥', '静', '蒙', '轩', '广', '妈', '贝', '跃', '涛', '俭', '辉', '卫', '钦', '华', '长', '国', '莹', '红', '称', '艺', '标', '鲁', '剑', '灿', '姗', '丰', '范', '莱', '贵', '贞', '钊', '才', '宝', '尔', '家', '兰', '鸣', '泽', '飞', '万', '强', '庆', '龙', '进', '学', '楼', '儿', '诗', '尧', '双', '启', '克', '丝', '侠', '扎', '颖', '乡', '运', '芸', '秋', '娇', '锋', '师', '扬', '奥', '岚', '丽', '罗', '逊', '仪', '来', '玮', '实', '圣', '栋', '韦', '征', '岭', '玛'}\n",
      "{'為', '義', '維', '濛', '馬', '陽', '齡', '歡', '蓮', '瑩', '豐', '徵', '濤', '瓊', '餘', '瑪', '莊', '韋', '庫', '權', '嬌', '瑋', '運', '帥', '嶺', '靜', '貴', '勛', '潔', '榮', '國', '茲', '滿', '鼕', '誌', '軒', '寜', '雲', '鋒', '倫', '蓋', '媽', '纔', '達', '剋', '圓', '納', '開', '連', '聖', '聲', '暉', '來', '雙', '師', '淩', '強', '飛', '萬', '鈞', '賢', '傢', '彥', '壽', '銘', '鴻', '聰', '風', '圖', '穎', '軍', '鈺', '欽', '時', '誠', '樓', '麗', '葉', '傳', '進', '寬', '頓', '羅', '靈', '楊', '純', '凱', '濱', '錦', '兒', '鳳', '慶', '龍', '蘭', '瑤', '偉', '懷', '衛', '啓', '鄉', '鬆', '營', '業', '謙', '禮', '紮', '鍾', '喬', '曉', '薩', '貝', '鎮', '裏', '揚', '絲', '澤', '寶', '萊', '農', '長', '燦', '鞦', '興', '爾', '貞', '諾', '魯', '煥', '蕓', '園', '俠', '發', '銀', '內', '鵬', '會', '嵐', '藝', '標', '詩', '釗', '遜', '傑', '舉', '蘇', '廣', '璿', '稱', '亞', '橋', '堯', '華', '東', '漢', '賓', '濟', '艷', '輝', '姍', '勝', '遠', '鳴', '韜', '書', '躍', '婭', '學', '儀', '奧', '儉', '堅', '順', '範', '齊', '棟', '實', '劍', '樂', '剛', '憲', '紅'}\n",
      "========\n"
     ]
    }
   ],
   "source": [
    "# second character of first name\n",
    "# 'firstname_12_second.txt','firstname_12_second_TC.txt'\n",
    "Testing('firstname_12_second.txt','firstname_12_second_TC.txt')"
   ]
  },
  {
   "cell_type": "markdown",
   "metadata": {},
   "source": [
    "# 2nd testing"
   ]
  },
  {
   "cell_type": "code",
   "execution_count": 354,
   "metadata": {},
   "outputs": [
    {
     "name": "stdout",
     "output_type": "stream",
     "text": [
      "     a  b\n",
      "2    张  張\n",
      "3    陈  陳\n",
      "4    刘  劉\n",
      "5    杨  楊\n",
      "6    黄  黃\n",
      "7    吴  吳\n",
      "8    马  馬\n",
      "9    赵  趙\n",
      "12   朱  硃\n",
      "14   胡  鬍\n",
      "15   孙  孫\n",
      "16   罗  羅\n",
      "18   郑  鄭\n",
      "23   谢  謝\n",
      "24   许  許\n",
      "26   苏  蘇\n",
      "27   韩  韓\n",
      "32   叶  葉\n",
      "33   冯  馮\n",
      "34   沈  瀋\n",
      "39   吕  呂\n",
      "43   蒋  蔣\n",
      "46   邓  鄧\n",
      "47   克  剋\n",
      "54   卢  盧\n",
      "55   贾  賈\n",
      "61   姜  薑\n",
      "63   余  餘\n",
      "64   范  範\n",
      "70   于  於\n",
      "74   乔  喬\n",
      "75   钟  鍾\n",
      "76   陆  陸\n",
      "80   华  華\n",
      "83   万  萬\n",
      "90   谭  譚\n",
      "92   欧  歐\n",
      "93   严  嚴\n",
      "97   钱  錢\n",
      "99   贺  賀\n",
      "100  齐  齊\n",
      "104  邹  鄒\n",
      "108  温  溫\n",
      "110  顾  顧\n",
      "112  鲁  魯\n",
      "113  奥  奧\n",
      "115  凯  凱\n",
      "116  萨  薩\n",
      "117  韦  韋\n",
      "118  汤  湯\n",
      "120  龙  龍\n",
      "121  杰  傑\n",
      "123  龚  龔\n",
      "130  麦  麥\n",
      "131  约  約\n",
      "135  贝  貝\n",
      "139  亚  亞\n",
      "144  玛  瑪\n",
      "145  鲍  鮑\n",
      "148  迈  邁\n",
      "150  乌  烏\n",
      "151  向  嚮\n",
      "153  兰  蘭\n",
      "154  赖  賴\n",
      "159  蓝  藍\n",
      "166  维  維\n",
      "167  闫  閆\n",
      "168  关  關\n",
      "170  达  達\n",
      "180  聂  聶\n",
      "188  费  費\n",
      "189  岳  嶽\n",
      "190  庄  莊\n",
      "192  莱  萊\n",
      "199  连  連\n",
      "200  萧  蕭\n",
      "201  庞  龐\n",
      "205  毕  畢\n",
      "208  颜  顔\n",
      "209  库  庫\n",
      "213  朴  樸\n",
      "216  蒙  濛\n",
      "222  凌  淩\n",
      "227  爱  愛\n",
      "228  纪  紀\n",
      "233  卫  衛\n",
      "234  游  遊\n",
      "235  谷  榖\n",
      "239  扎  紮\n",
      "242  宁  寜\n",
      "246  诺  諾\n",
      "248  盖  蓋\n",
      "249  圣  聖\n",
      "251  窦  竇\n",
      "252  骆  駱\n",
      "255  车  車\n",
      "260  劳  勞\n",
      "262  涂  塗\n",
      "263  纳  納\n",
      "267  里  裏\n",
      "270  赛  賽\n",
      "271  曲  麯\n",
      "276  阎  閻\n",
      "283  乐  樂\n",
      "284  内  內\n",
      "287  储  儲\n",
      "289  简  簡\n",
      "295  单  單\n",
      "296  娄  婁\n",
      "299  项  項\n",
      "302  宫  宮\n",
      "312  党  黨\n",
      "314  东  東\n",
      "319  汉  漢\n",
      "321  强  強\n",
      "322  阳  陽\n",
      "327  松  鬆\n",
      "328  饶  饒\n",
      "329  荣  榮\n",
      "330  荆  荊\n",
      "331  丰  豐\n",
      "332  缪  繆\n",
      "342  热  熱\n",
      "343  卜  蔔\n",
      "344  闵  閔\n",
      "345  怀  懷\n",
      "352  扬  揚\n",
      "355  图  圖\n",
      "358  边  邊\n",
      "361  买  買\n",
      "362  丽  麗\n",
      "370  迟  遲\n",
      "377  郁  鬱\n",
      "379  帅  帥\n",
      "385  谈  談\n",
      "388  泽  澤\n",
      "389  国  國\n",
      "391  谌  諶\n",
      "395  邝  鄺\n",
      "397  巩  鞏\n",
      "398  铁  鐵\n",
      "400  银  銀\n",
      "403  云  雲\n",
      "404  纽  紐\n",
      "406  千  韆\n",
      "407  宝  寶\n",
      "408  农  農\n",
      "410  闻  聞\n",
      "412  应  應\n",
      "413  门  門\n",
      "418  晋  晉\n",
      "421  来  來\n",
      "422  诸  諸\n",
      "425  蔺  藺\n",
      "428  经  經\n",
      "430  师  師\n",
      "431  别  彆\n",
      "432  丛  叢\n",
      "433  权  權\n",
      "434  贡  貢\n",
      "439  琼  瓊\n",
      "440  时  時\n",
      "444  阙  闕\n",
      "448  凤  鳳\n",
      "449  区  區\n",
      "450  习  習\n",
      "453  伦  倫\n",
      "456  楼  樓\n",
      "457  兴  興\n",
      "462  绍  紹\n",
      "480  回  迴\n",
      "486  让  讓\n",
      "489  畅  暢\n",
      "492  广  廣\n",
      "495  练  練\n",
      "504  励  勵\n",
      "506  舍  捨\n",
      "510  满  滿\n",
      "511  寿  壽\n",
      "513  钮  鈕\n",
      "517  优  優\n",
      "520  尔  爾\n",
      "521  邬  鄔\n",
      "522  宾  賓\n",
      "524  才  纔\n"
     ]
    }
   ],
   "source": [
    "# last name \n",
    "a = 'last.txt'\n",
    "b = 'last_TC.txt'\n",
    "\n",
    "# first character of first name\n",
    "#a = 'firstname_12_one.txt'\n",
    "#b = 'firstname_12_one_TC.txt'\n",
    "\n",
    "# second character of first name\n",
    "#a = 'firstname_12_second.txt'\n",
    "#b = 'firstname_12_second_TC.txt'\n",
    "\n",
    "\n",
    "dff = pd.read_csv(a, sep=\" \", header=None, names=[\"a\"])\n",
    "dff2 = pd.read_csv(b, sep=\" \", header=None, names=[\"b\"])\n",
    "\n",
    "\n",
    "df_all = pd.concat([dff, dff2], axis='columns',)\n",
    "\n",
    "def print_full(x):\n",
    "    pd.set_option('display.max_rows', len(x))\n",
    "    print(x)\n",
    "    pd.reset_option('display.max_rows')\n",
    "    \n",
    "print_full(df_all.loc[df_all['a'] != df_all['b']])"
   ]
  },
  {
   "cell_type": "markdown",
   "metadata": {},
   "source": [
    "# Change and Modify character"
   ]
  },
  {
   "cell_type": "code",
   "execution_count": 355,
   "metadata": {},
   "outputs": [
    {
     "name": "stdout",
     "output_type": "stream",
     "text": [
      "     a  b\n",
      "0    王  王\n",
      "1    李  李\n",
      "2    张  張\n",
      "3    陈  陳\n",
      "4    刘  劉\n",
      "5    杨  楊\n",
      "6    黄  黃\n",
      "7    吴  吳\n",
      "8    马  馬\n",
      "9    赵  趙\n",
      "10   周  周\n",
      "11   林  林\n",
      "12   朱  硃\n",
      "13   徐  徐\n",
      "14   胡  鬍\n",
      "15   孙  孫\n",
      "16   罗  羅\n",
      "17   郭  郭\n",
      "18   郑  鄭\n",
      "19   金  金\n",
      "20   阿  阿\n",
      "21   何  何\n",
      "22   高  高\n",
      "23   谢  謝\n",
      "24   许  許\n",
      "25   宋  宋\n",
      "26   苏  蘇\n",
      "27   韩  韓\n",
      "28   梁  梁\n",
      "29   蔡  蔡\n",
      "30   安  安\n",
      "31   唐  唐\n",
      "32   叶  葉\n",
      "33   冯  馮\n",
      "34   沈  沈\n",
      "35   曹  曹\n",
      "36   潘  潘\n",
      "37   董  董\n",
      "38   程  程\n",
      "39   吕  呂\n",
      "40   袁  袁\n",
      "41   汪  汪\n",
      "42   丁  丁\n",
      "43   蒋  蔣\n",
      "44   艾  艾\n",
      "45   方  方\n",
      "46   邓  鄧\n",
      "47   克  克\n",
      "48   肖  肖\n",
      "49   白  白\n",
      "50   杜  杜\n",
      "51   魏  魏\n",
      "52   卡  卡\n",
      "53   江  江\n",
      "54   卢  盧\n",
      "55   贾  賈\n",
      "56   彭  彭\n",
      "57   夏  夏\n",
      "58   田  田\n",
      "59   雷  雷\n",
      "60   崔  崔\n",
      "61   姜  姜\n",
      "62   曾  曾\n",
      "63   余  餘\n",
      "64   范  範\n",
      "65   石  石\n",
      "66   洪  洪\n",
      "67   斯  斯\n",
      "68   秦  秦\n",
      "69   姚  姚\n",
      "70   于  于\n",
      "71   巴  巴\n",
      "72   布  布\n",
      "73   戴  戴\n",
      "74   乔  喬\n",
      "75   钟  鍾\n",
      "76   陆  陸\n",
      "77   梅  梅\n",
      "78   伊  伊\n",
      "79   廖  廖\n",
      "80   华  華\n",
      "81   史  史\n",
      "82   拉  拉\n",
      "83   万  萬\n",
      "84   武  武\n",
      "85   任  任\n",
      "86   文  文\n",
      "87   孟  孟\n",
      "88   熊  熊\n",
      "89   莫  莫\n",
      "90   谭  譚\n",
      "91   薛  薛\n",
      "92   欧  歐\n",
      "93   严  嚴\n",
      "94   康  康\n",
      "95   邱  邱\n",
      "96   侯  侯\n",
      "97   钱  錢\n",
      "98   陶  陶\n",
      "99   贺  賀\n",
      "100  齐  齊\n",
      "101  毛  毛\n",
      "102  邵  邵\n",
      "103  尹  尹\n",
      "104  邹  鄒\n",
      "105  格  格\n",
      "106  西  西\n",
      "107  詹  詹\n",
      "108  温  溫\n",
      "109  哈  哈\n",
      "110  顾  顧\n",
      "111  吉  吉\n",
      "112  鲁  魯\n",
      "113  奥  奧\n",
      "114  施  施\n",
      "115  凯  凱\n",
      "116  萨  薩\n",
      "117  韦  韋\n",
      "118  汤  湯\n",
      "119  傅  傅\n",
      "120  龙  龍\n",
      "121  杰  傑\n",
      "122  郝  郝\n",
      "123  龚  龔\n",
      "124  弗  弗\n",
      "125  尼  尼\n",
      "126  古  古\n",
      "127  埃  埃\n",
      "128  穆  穆\n",
      "129  米  米\n",
      "130  麦  麥\n",
      "131  约  約\n",
      "132  海  海\n",
      "133  德  德\n",
      "134  柯  柯\n",
      "135  贝  貝\n",
      "136  普  普\n",
      "137  沙  沙\n",
      "138  柳  柳\n",
      "139  亚  亞\n",
      "140  葛  葛\n",
      "141  黎  黎\n",
      "142  霍  霍\n",
      "143  孔  孔\n",
      "144  玛  瑪\n",
      "145  鲍  鮑\n",
      "146  比  比\n",
      "147  威  威\n",
      "148  迈  邁\n",
      "149  段  段\n",
      "150  乌  烏\n",
      "151  向  嚮\n",
      "152  章  章\n",
      "153  兰  蘭\n",
      "154  赖  賴\n",
      "155  查  查\n",
      "156  付  付\n",
      "157  倪  倪\n",
      "158  童  童\n",
      "159  蓝  藍\n",
      "160  伍  伍\n",
      "161  帕  帕\n",
      "162  牛  牛\n",
      "163  科  科\n",
      "164  桑  桑\n",
      "165  托  托\n",
      "166  维  維\n",
      "167  闫  閆\n",
      "168  关  關\n",
      "169  大  大\n",
      "170  达  達\n",
      "171  路  路\n",
      "172  邢  邢\n",
      "173  俞  俞\n",
      "174  瓦  瓦\n",
      "175  保  保\n",
      "176  丹  丹\n",
      "177  常  常\n",
      "178  尤  尤\n",
      "179  甘  甘\n",
      "180  聂  聶\n",
      "181  樊  樊\n",
      "182  殷  殷\n",
      "183  塞  塞\n",
      "184  和  和\n",
      "185  特  特\n",
      "186  翟  翟\n",
      "187  博  博\n",
      "188  费  費\n",
      "189  岳  嶽\n",
      "190  庄  莊\n",
      "191  迪  迪\n",
      "192  莱  萊\n",
      "193  左  左\n",
      "194  索  索\n",
      "195  易  易\n",
      "196  福  福\n",
      "197  耿  耿\n",
      "198  申  申\n",
      "199  连  連\n",
      "200  萧  蕭\n",
      "201  庞  龐\n",
      "202  沃  沃\n",
      "203  焦  焦\n",
      "204  辛  辛\n",
      "205  毕  畢\n",
      "206  祝  祝\n",
      "207  符  符\n",
      "208  颜  顔\n",
      "209  库  庫\n",
      "210  塔  塔\n",
      "211  翁  翁\n",
      "212  菲  菲\n",
      "213  朴  樸\n",
      "214  希  希\n",
      "215  盛  盛\n",
      "216  蒙  濛\n",
      "217  阮  阮\n",
      "218  卓  卓\n",
      "219  季  季\n",
      "220  加  加\n",
      "221  皮  皮\n",
      "222  凌  淩\n",
      "223  尚  尚\n",
      "224  赫  赫\n",
      "225  洛  洛\n",
      "226  利  利\n",
      "227  爱  愛\n",
      "228  纪  紀\n",
      "229  明  明\n",
      "230  裴  裴\n",
      "231  泰  泰\n",
      "232  南  南\n",
      "233  卫  衛\n",
      "234  游  遊\n",
      "235  谷  榖\n",
      "236  舒  舒\n",
      "237  包  包\n",
      "238  成  成\n",
      "239  扎  紮\n",
      "240  小  小\n",
      "241  法  法\n",
      "242  宁  寜\n",
      "243  戈  戈\n",
      "244  惠  惠\n",
      "245  瑞  瑞\n",
      "246  诺  諾\n",
      "247  波  波\n",
      "248  盖  蓋\n",
      "249  圣  聖\n",
      "250  山  山\n",
      "251  窦  竇\n",
      "252  骆  駱\n",
      "253  柏  柏\n",
      "254  楚  楚\n",
      "255  车  車\n",
      "256  宗  宗\n",
      "257  木  木\n",
      "258  蒲  蒲\n",
      "259  柴  柴\n",
      "260  劳  勞\n",
      "261  基  基\n",
      "262  涂  塗\n",
      "263  纳  納\n",
      "264  桂  桂\n",
      "265  蒂  蒂\n",
      "266  喻  喻\n",
      "267  里  里\n",
      "268  房  房\n",
      "269  司  司\n",
      "270  赛  賽\n",
      "271  曲  曲\n",
      "272  覃  覃\n",
      "273  多  多\n",
      "274  屈  屈\n",
      "275  本  本\n",
      "276  阎  閻\n",
      "277  苗  苗\n",
      "278  景  景\n",
      "279  管  管\n",
      "280  佩  佩\n",
      "281  理  理\n",
      "282  彼  彼\n",
      "283  乐  樂\n",
      "284  内  內\n",
      "285  代  代\n",
      "286  道  道\n",
      "287  储  儲\n",
      "288  肯  肯\n",
      "289  简  簡\n",
      "290  隋  隋\n",
      "291  虞  虞\n",
      "292  祁  祁\n",
      "293  晏  晏\n",
      "294  伯  伯\n",
      "295  单  單\n",
      "296  娄  婁\n",
      "297  燕  燕\n",
      "298  席  席\n",
      "299  项  項\n",
      "300  靳  靳\n",
      "301  考  考\n",
      "302  宫  宮\n",
      "303  花  花\n",
      "304  努  努\n",
      "305  莎  莎\n",
      "306  廉  廉\n",
      "307  中  中\n",
      "308  珍  珍\n",
      "309  寇  寇\n",
      "310  解  解\n",
      "311  奚  奚\n",
      "312  党  黨\n",
      "313  佘  佘\n",
      "314  东  東\n",
      "315  商  商\n",
      "316  官  官\n",
      "317  戚  戚\n",
      "318  冀  冀\n",
      "319  汉  漢\n",
      "320  冷  冷\n",
      "321  强  強\n",
      "322  阳  陽\n",
      "323  摩  摩\n",
      "324  狄  狄\n",
      "325  臧  臧\n",
      "326  池  池\n",
      "327  松  鬆\n",
      "328  饶  饒\n",
      "329  荣  榮\n",
      "330  荆  荊\n",
      "331  丰  豐\n",
      "332  缪  繆\n",
      "333  滕  滕\n",
      "334  屠  屠\n",
      "335  甄  甄\n",
      "336  曼  曼\n",
      "337  雅  雅\n",
      "338  卞  卞\n",
      "339  佟  佟\n",
      "340  平  平\n",
      "341  切  切\n",
      "342  热  熱\n",
      "343  卜  蔔\n",
      "344  闵  閔\n",
      "345  怀  懷\n",
      "346  匡  匡\n",
      "347  亨  亨\n",
      "348  瞿  瞿\n",
      "349  慕  慕\n",
      "350  冉  冉\n",
      "351  祖  祖\n",
      "352  扬  揚\n",
      "353  宣  宣\n",
      "354  玉  玉\n",
      "355  图  圖\n",
      "356  娜  娜\n",
      "357  英  英\n",
      "358  边  邊\n",
      "359  褚  褚\n",
      "360  嘉  嘉\n",
      "361  买  買\n",
      "362  丽  麗\n",
      "363  仲  仲\n",
      "364  郎  郎\n",
      "365  刁  刁\n",
      "366  姬  姬\n",
      "367  宇  宇\n",
      "368  仇  仇\n",
      "369  丘  丘\n",
      "370  迟  遲\n",
      "371  杭  杭\n",
      "372  全  全\n",
      "373  默  默\n",
      "374  薄  薄\n",
      "375  拜  拜\n",
      "376  原  原\n",
      "377  郁  鬱\n",
      "378  哥  哥\n",
      "379  帅  帥\n",
      "380  恩  恩\n",
      "381  岑  岑\n",
      "382  坎  坎\n",
      "383  勒  勒\n",
      "384  班  班\n",
      "385  谈  談\n",
      "386  奇  奇\n",
      "387  鞠  鞠\n",
      "388  泽  澤\n",
      "389  国  國\n",
      "390  封  封\n",
      "391  谌  諶\n",
      "392  苑  苑\n",
      "393  牟  牟\n",
      "394  郜  郜\n",
      "395  邝  鄺\n",
      "396  隆  隆\n",
      "397  巩  鞏\n",
      "398  铁  鐵\n",
      "399  伏  伏\n",
      "400  银  銀\n",
      "401  列  列\n",
      "402  展  展\n",
      "403  云  雲\n",
      "404  纽  紐\n",
      "405  水  水\n",
      "406  千  千\n",
      "407  宝  寶\n",
      "408  农  農\n",
      "409  浦  浦\n",
      "410  闻  聞\n",
      "411  呼  呼\n",
      "412  应  應\n",
      "413  门  門\n",
      "414  永  永\n",
      "415  崇  崇\n",
      "416  辜  辜\n",
      "417  沐  沐\n",
      "418  晋  晉\n",
      "419  茅  茅\n",
      "420  束  束\n",
      "421  来  來\n",
      "422  诸  諸\n",
      "423  裘  裘\n",
      "424  麻  麻\n",
      "425  蔺  藺\n",
      "426  昂  昂\n",
      "427  耶  耶\n",
      "428  经  經\n",
      "429  公  公\n",
      "430  师  師\n",
      "431  别  别\n",
      "432  丛  叢\n",
      "433  权  權\n",
      "434  贡  貢\n",
      "435  鹿  鹿\n",
      "436  敏  敏\n",
      "437  敬  敬\n",
      "438  京  京\n",
      "439  琼  瓊\n",
      "440  时  時\n",
      "441  昌  昌\n",
      "442  凡  凡\n",
      "443  仁  仁\n",
      "444  阙  闕\n",
      "445  相  相\n",
      "446  三  三\n",
      "447  豪  豪\n",
      "448  凤  鳳\n",
      "449  区  區\n",
      "450  习  習\n",
      "451  那  那\n",
      "452  琳  琳\n",
      "453  伦  倫\n",
      "454  依  依\n",
      "455  巫  巫\n",
      "456  楼  樓\n",
      "457  兴  興\n",
      "458  吐  吐\n",
      "459  旺  旺\n",
      "460  提  提\n",
      "461  雪  雪\n",
      "462  绍  紹\n",
      "463  野  野\n",
      "464  芮  芮\n",
      "465  栗  栗\n",
      "466  逄  逄\n",
      "467  容  容\n",
      "468  紫  紫\n",
      "469  莉  莉\n",
      "470  居  居\n",
      "471  富  富\n",
      "472  候  候\n",
      "473  宛  宛\n",
      "474  粟  粟\n",
      "475  冼  冼\n",
      "476  奕  奕\n",
      "477  渡  渡\n",
      "478  雍  雍\n",
      "479  青  青\n",
      "480  回  迴\n",
      "481  吾  吾\n",
      "482  印  印\n",
      "483  黛  黛\n",
      "484  北  北\n",
      "485  巢  巢\n",
      "486  让  讓\n",
      "487  禹  禹\n",
      "488  敖  敖\n",
      "489  畅  暢\n",
      "490  都  都\n",
      "491  坦  坦\n",
      "492  广  廣\n",
      "493  操  操\n",
      "494  奈  奈\n",
      "495  练  練\n",
      "496  堂  堂\n",
      "497  逯  逯\n",
      "498  土  土\n",
      "499  孝  孝\n",
      "500  瓜  瓜\n",
      "501  芭  芭\n",
      "502  芬  芬\n",
      "503  晁  晁\n",
      "504  励  勵\n",
      "505  佐  佐\n",
      "506  舍  捨\n",
      "507  朗  朗\n",
      "508  揭  揭\n",
      "509  綦  綦\n",
      "510  满  滿\n",
      "511  寿  壽\n",
      "512  休  休\n",
      "513  钮  鈕\n",
      "514  赤  赤\n",
      "515  亓  亓\n",
      "516  川  川\n",
      "517  优  優\n",
      "518  荷  荷\n",
      "519  素  素\n",
      "520  尔  爾\n",
      "521  邬  鄔\n",
      "522  宾  賓\n",
      "523  森  森\n",
      "524  才  才\n",
      "525  蕾  蕾\n",
      "526  井  井\n",
      "527  衣  衣\n"
     ]
    }
   ],
   "source": [
    "# last name\n",
    "i = {\"於\",\"薑\",\"剋\",\"瀋\",\"纔\",\"裏\",\"麯\",\"韆\",\"彆\"}\n",
    "\n",
    "# first character of first name\n",
    "#i = {\"誌\",\"剋\",\"裏\",\"傢\",\"鞦\",\"嚮\",\"鼕\",\"淩\",\"濛\",\"纔\",\"榖\",\"蔔\",\"蔔\",\"蔔\"}\n",
    "\n",
    "# second character of first name\n",
    "#i = {\"剋\",\"裏\",\"鬆\",\"纔\",\"誌\",\"鞦\",\"餘\",\"淩\",\"鼕\",\"濛\",\"範\"}\n",
    "\n",
    "for c in i:\n",
    "    df_all[\"b\"] = df_all[\"b\"].replace(c,df_all[\"a\"],regex=True)\n",
    "print_full(df_all)"
   ]
  },
  {
   "cell_type": "code",
   "execution_count": 356,
   "metadata": {},
   "outputs": [
    {
     "name": "stdout",
     "output_type": "stream",
     "text": [
      "None\n"
     ]
    }
   ],
   "source": [
    "# Export last name to txt file\n",
    "\n",
    "print(df_all['b'].to_csv(r'last_final.txt', header=None, index=None, sep=' ', mode='a'))"
   ]
  },
  {
   "cell_type": "code",
   "execution_count": 320,
   "metadata": {},
   "outputs": [
    {
     "data": {
      "text/html": [
       "<div>\n",
       "<style scoped>\n",
       "    .dataframe tbody tr th:only-of-type {\n",
       "        vertical-align: middle;\n",
       "    }\n",
       "\n",
       "    .dataframe tbody tr th {\n",
       "        vertical-align: top;\n",
       "    }\n",
       "\n",
       "    .dataframe thead th {\n",
       "        text-align: right;\n",
       "    }\n",
       "</style>\n",
       "<table border=\"1\" class=\"dataframe\">\n",
       "  <thead>\n",
       "    <tr style=\"text-align: right;\">\n",
       "      <th></th>\n",
       "      <th>B1</th>\n",
       "    </tr>\n",
       "  </thead>\n",
       "  <tbody>\n",
       "    <tr>\n",
       "      <th>0</th>\n",
       "      <td>曉</td>\n",
       "    </tr>\n",
       "    <tr>\n",
       "      <th>1</th>\n",
       "      <td>文</td>\n",
       "    </tr>\n",
       "    <tr>\n",
       "      <th>2</th>\n",
       "      <td>爾</td>\n",
       "    </tr>\n",
       "    <tr>\n",
       "      <th>3</th>\n",
       "      <td>建</td>\n",
       "    </tr>\n",
       "    <tr>\n",
       "      <th>4</th>\n",
       "      <td>小</td>\n",
       "    </tr>\n",
       "  </tbody>\n",
       "</table>\n",
       "</div>"
      ],
      "text/plain": [
       "  B1\n",
       "0  曉\n",
       "1  文\n",
       "2  爾\n",
       "3  建\n",
       "4  小"
      ]
     },
     "execution_count": 320,
     "metadata": {},
     "output_type": "execute_result"
    }
   ],
   "source": [
    "# Extract to first character of first name\n",
    "#df_first1 = df_all[['b']]\n",
    "#df_first1.rename(columns={'b': 'B1'}, inplace=True)# change column name\n",
    "df_first1.head()\n",
    "#len (df_first1)"
   ]
  },
  {
   "cell_type": "code",
   "execution_count": 328,
   "metadata": {},
   "outputs": [
    {
     "data": {
      "text/html": [
       "<div>\n",
       "<style scoped>\n",
       "    .dataframe tbody tr th:only-of-type {\n",
       "        vertical-align: middle;\n",
       "    }\n",
       "\n",
       "    .dataframe tbody tr th {\n",
       "        vertical-align: top;\n",
       "    }\n",
       "\n",
       "    .dataframe thead th {\n",
       "        text-align: right;\n",
       "    }\n",
       "</style>\n",
       "<table border=\"1\" class=\"dataframe\">\n",
       "  <thead>\n",
       "    <tr style=\"text-align: right;\">\n",
       "      <th></th>\n",
       "      <th>B2</th>\n",
       "    </tr>\n",
       "  </thead>\n",
       "  <tbody>\n",
       "    <tr>\n",
       "      <th>0</th>\n",
       "      <td>華</td>\n",
       "    </tr>\n",
       "    <tr>\n",
       "      <th>1</th>\n",
       "      <td>斯</td>\n",
       "    </tr>\n",
       "    <tr>\n",
       "      <th>2</th>\n",
       "      <td>平</td>\n",
       "    </tr>\n",
       "    <tr>\n",
       "      <th>3</th>\n",
       "      <td>爾</td>\n",
       "    </tr>\n",
       "    <tr>\n",
       "      <th>4</th>\n",
       "      <td>明</td>\n",
       "    </tr>\n",
       "  </tbody>\n",
       "</table>\n",
       "</div>"
      ],
      "text/plain": [
       "  B2\n",
       "0  華\n",
       "1  斯\n",
       "2  平\n",
       "3  爾\n",
       "4  明"
      ]
     },
     "execution_count": 328,
     "metadata": {},
     "output_type": "execute_result"
    }
   ],
   "source": [
    "# Extract to second character of first name\n",
    "#df_first2 = df_all[['b']]\n",
    "#df_first2.rename(columns={'b': 'B2'}, inplace=True)# change column name\n",
    "df_first2.head()\n",
    "#len (df_first2)"
   ]
  },
  {
   "cell_type": "code",
   "execution_count": 329,
   "metadata": {},
   "outputs": [
    {
     "name": "stdout",
     "output_type": "stream",
     "text": [
      "None\n"
     ]
    }
   ],
   "source": [
    "# Export txt file\n",
    "print(df_first2.to_csv(r'first_name_12_1char.txt', header=None, index=None, sep=' ', mode='a'))"
   ]
  },
  {
   "cell_type": "markdown",
   "metadata": {},
   "source": [
    "# Combination of first name"
   ]
  },
  {
   "cell_type": "code",
   "execution_count": 321,
   "metadata": {},
   "outputs": [],
   "source": [
    "# function of combination\n",
    "def cartesian(df1, df2):\n",
    "    rows = itertools.product(df1.iterrows(), df2.iterrows())   \n",
    "    #print (rows)\n",
    "    df = pd.DataFrame(left.append(right) for (_, left), (_, right) in rows)\n",
    "    print (rows)\n",
    "    return df.reset_index(drop=True)"
   ]
  },
  {
   "cell_type": "code",
   "execution_count": 324,
   "metadata": {},
   "outputs": [
    {
     "name": "stdout",
     "output_type": "stream",
     "text": [
      "<itertools.product object at 0x1467132d0>\n"
     ]
    }
   ],
   "source": [
    "combined_firstname_final = functools.reduce(cartesian, [df_first1, df_first2])"
   ]
  },
  {
   "cell_type": "code",
   "execution_count": 325,
   "metadata": {},
   "outputs": [
    {
     "name": "stdout",
     "output_type": "stream",
     "text": [
      "  B1 B2\n",
      "0  曉  華\n",
      "1  曉  斯\n",
      "2  曉  平\n",
      "3  曉  爾\n",
      "4  曉  明\n"
     ]
    },
    {
     "data": {
      "text/plain": [
       "355796"
      ]
     },
     "execution_count": 325,
     "metadata": {},
     "output_type": "execute_result"
    }
   ],
   "source": [
    "print(combined_firstname_final.head())\n",
    "len(combined_firstname_final)"
   ]
  },
  {
   "cell_type": "code",
   "execution_count": 326,
   "metadata": {},
   "outputs": [
    {
     "data": {
      "text/html": [
       "<div>\n",
       "<style scoped>\n",
       "    .dataframe tbody tr th:only-of-type {\n",
       "        vertical-align: middle;\n",
       "    }\n",
       "\n",
       "    .dataframe tbody tr th {\n",
       "        vertical-align: top;\n",
       "    }\n",
       "\n",
       "    .dataframe thead th {\n",
       "        text-align: right;\n",
       "    }\n",
       "</style>\n",
       "<table border=\"1\" class=\"dataframe\">\n",
       "  <thead>\n",
       "    <tr style=\"text-align: right;\">\n",
       "      <th></th>\n",
       "      <th>B3</th>\n",
       "    </tr>\n",
       "  </thead>\n",
       "  <tbody>\n",
       "    <tr>\n",
       "      <th>0</th>\n",
       "      <td>曉華</td>\n",
       "    </tr>\n",
       "    <tr>\n",
       "      <th>1</th>\n",
       "      <td>曉斯</td>\n",
       "    </tr>\n",
       "    <tr>\n",
       "      <th>2</th>\n",
       "      <td>曉平</td>\n",
       "    </tr>\n",
       "    <tr>\n",
       "      <th>3</th>\n",
       "      <td>曉爾</td>\n",
       "    </tr>\n",
       "    <tr>\n",
       "      <th>4</th>\n",
       "      <td>曉明</td>\n",
       "    </tr>\n",
       "  </tbody>\n",
       "</table>\n",
       "</div>"
      ],
      "text/plain": [
       "   B3\n",
       "0  曉華\n",
       "1  曉斯\n",
       "2  曉平\n",
       "3  曉爾\n",
       "4  曉明"
      ]
     },
     "execution_count": 326,
     "metadata": {},
     "output_type": "execute_result"
    }
   ],
   "source": [
    "# Remove space between 2 character\n",
    "combined_firstname_final['B3'] = combined_firstname_final.B1.str.cat(combined_firstname_final.B2)\n",
    "combined_firstname_F = pd.DataFrame(combined_firstname_final.iloc[:, 2:3])\n",
    "combined_firstname_F.head()"
   ]
  },
  {
   "cell_type": "code",
   "execution_count": 330,
   "metadata": {},
   "outputs": [
    {
     "name": "stdout",
     "output_type": "stream",
     "text": [
      "None\n"
     ]
    }
   ],
   "source": [
    "# Export txt file\n",
    "print(combined_firstname_F.to_csv(r'first_name_12_2char.txt', header=None, index=None, sep=' ', mode='a'))"
   ]
  },
  {
   "cell_type": "markdown",
   "metadata": {},
   "source": [
    "# End "
   ]
  },
  {
   "cell_type": "code",
   "execution_count": null,
   "metadata": {},
   "outputs": [],
   "source": []
  },
  {
   "cell_type": "code",
   "execution_count": null,
   "metadata": {},
   "outputs": [],
   "source": []
  },
  {
   "cell_type": "code",
   "execution_count": null,
   "metadata": {},
   "outputs": [],
   "source": []
  },
  {
   "cell_type": "code",
   "execution_count": null,
   "metadata": {},
   "outputs": [],
   "source": []
  },
  {
   "cell_type": "markdown",
   "metadata": {},
   "source": [
    "# Make new dataset for 2 character"
   ]
  },
  {
   "cell_type": "code",
   "execution_count": 95,
   "metadata": {},
   "outputs": [
    {
     "data": {
      "text/html": [
       "<div>\n",
       "<style scoped>\n",
       "    .dataframe tbody tr th:only-of-type {\n",
       "        vertical-align: middle;\n",
       "    }\n",
       "\n",
       "    .dataframe tbody tr th {\n",
       "        vertical-align: top;\n",
       "    }\n",
       "\n",
       "    .dataframe thead th {\n",
       "        text-align: right;\n",
       "    }\n",
       "</style>\n",
       "<table border=\"1\" class=\"dataframe\">\n",
       "  <thead>\n",
       "    <tr style=\"text-align: right;\">\n",
       "      <th></th>\n",
       "      <th>B2</th>\n",
       "    </tr>\n",
       "  </thead>\n",
       "  <tbody>\n",
       "    <tr>\n",
       "      <th>0</th>\n",
       "      <td>華</td>\n",
       "    </tr>\n",
       "    <tr>\n",
       "      <th>1</th>\n",
       "      <td>斯</td>\n",
       "    </tr>\n",
       "    <tr>\n",
       "      <th>2</th>\n",
       "      <td>平</td>\n",
       "    </tr>\n",
       "    <tr>\n",
       "      <th>3</th>\n",
       "      <td>爾</td>\n",
       "    </tr>\n",
       "    <tr>\n",
       "      <th>4</th>\n",
       "      <td>明</td>\n",
       "    </tr>\n",
       "  </tbody>\n",
       "</table>\n",
       "</div>"
      ],
      "text/plain": [
       "  B2\n",
       "0  華\n",
       "1  斯\n",
       "2  平\n",
       "3  爾\n",
       "4  明"
      ]
     },
     "execution_count": 95,
     "metadata": {},
     "output_type": "execute_result"
    }
   ],
   "source": [
    "b = 'firstname_12_only2Character_TC.txt'\n",
    "\n",
    "dff = pd.read_csv(b, sep=\" \", header=None, names=[\"B2\"])\n",
    "dff.head()"
   ]
  },
  {
   "cell_type": "code",
   "execution_count": 96,
   "metadata": {},
   "outputs": [
    {
     "name": "stdout",
     "output_type": "stream",
     "text": [
      "None\n"
     ]
    }
   ],
   "source": [
    "# Export last name if only 2 character of name\n",
    "print(df4.to_csv(r'middle.txt', header=None, index=None, sep=' ', mode='a'))"
   ]
  },
  {
   "cell_type": "code",
   "execution_count": 84,
   "metadata": {},
   "outputs": [],
   "source": [
    "#last_name.txt\n",
    "Translate_value('middle.txt','middle_TC.txt', 1)"
   ]
  },
  {
   "cell_type": "code",
   "execution_count": 97,
   "metadata": {},
   "outputs": [
    {
     "data": {
      "text/html": [
       "<div>\n",
       "<style scoped>\n",
       "    .dataframe tbody tr th:only-of-type {\n",
       "        vertical-align: middle;\n",
       "    }\n",
       "\n",
       "    .dataframe tbody tr th {\n",
       "        vertical-align: top;\n",
       "    }\n",
       "\n",
       "    .dataframe thead th {\n",
       "        text-align: right;\n",
       "    }\n",
       "</style>\n",
       "<table border=\"1\" class=\"dataframe\">\n",
       "  <thead>\n",
       "    <tr style=\"text-align: right;\">\n",
       "      <th></th>\n",
       "      <th>B1</th>\n",
       "    </tr>\n",
       "  </thead>\n",
       "  <tbody>\n",
       "    <tr>\n",
       "      <th>0</th>\n",
       "      <td>曉</td>\n",
       "    </tr>\n",
       "    <tr>\n",
       "      <th>1</th>\n",
       "      <td>文</td>\n",
       "    </tr>\n",
       "    <tr>\n",
       "      <th>2</th>\n",
       "      <td>爾</td>\n",
       "    </tr>\n",
       "    <tr>\n",
       "      <th>3</th>\n",
       "      <td>建</td>\n",
       "    </tr>\n",
       "    <tr>\n",
       "      <th>4</th>\n",
       "      <td>小</td>\n",
       "    </tr>\n",
       "  </tbody>\n",
       "</table>\n",
       "</div>"
      ],
      "text/plain": [
       "  B1\n",
       "0  曉\n",
       "1  文\n",
       "2  爾\n",
       "3  建\n",
       "4  小"
      ]
     },
     "execution_count": 97,
     "metadata": {},
     "output_type": "execute_result"
    }
   ],
   "source": [
    "c = 'middle_TC.txt'\n",
    "\n",
    "dffr = pd.read_csv(c, sep=\" \", header=None, names=[\"B1\"])\n",
    "dffr.head()"
   ]
  },
  {
   "cell_type": "code",
   "execution_count": 98,
   "metadata": {},
   "outputs": [
    {
     "name": "stdout",
     "output_type": "stream",
     "text": [
      "<itertools.product object at 0x148fad828>\n"
     ]
    }
   ],
   "source": [
    "combined_firstname_final = functools.reduce(cartesian, [dffr, dff])"
   ]
  },
  {
   "cell_type": "code",
   "execution_count": 100,
   "metadata": {},
   "outputs": [
    {
     "data": {
      "text/html": [
       "<div>\n",
       "<style scoped>\n",
       "    .dataframe tbody tr th:only-of-type {\n",
       "        vertical-align: middle;\n",
       "    }\n",
       "\n",
       "    .dataframe tbody tr th {\n",
       "        vertical-align: top;\n",
       "    }\n",
       "\n",
       "    .dataframe thead th {\n",
       "        text-align: right;\n",
       "    }\n",
       "</style>\n",
       "<table border=\"1\" class=\"dataframe\">\n",
       "  <thead>\n",
       "    <tr style=\"text-align: right;\">\n",
       "      <th></th>\n",
       "      <th>B3</th>\n",
       "    </tr>\n",
       "  </thead>\n",
       "  <tbody>\n",
       "    <tr>\n",
       "      <th>0</th>\n",
       "      <td>曉華</td>\n",
       "    </tr>\n",
       "    <tr>\n",
       "      <th>1</th>\n",
       "      <td>曉斯</td>\n",
       "    </tr>\n",
       "    <tr>\n",
       "      <th>2</th>\n",
       "      <td>曉平</td>\n",
       "    </tr>\n",
       "    <tr>\n",
       "      <th>3</th>\n",
       "      <td>曉爾</td>\n",
       "    </tr>\n",
       "    <tr>\n",
       "      <th>4</th>\n",
       "      <td>曉明</td>\n",
       "    </tr>\n",
       "  </tbody>\n",
       "</table>\n",
       "</div>"
      ],
      "text/plain": [
       "   B3\n",
       "0  曉華\n",
       "1  曉斯\n",
       "2  曉平\n",
       "3  曉爾\n",
       "4  曉明"
      ]
     },
     "execution_count": 100,
     "metadata": {},
     "output_type": "execute_result"
    }
   ],
   "source": [
    "# Remove space between 2 character\n",
    "combined_firstname_final['B3'] = combined_firstname_final.B1.str.cat(combined_firstname_final.B2)\n",
    "combined_firstname_final = pd.DataFrame(combined_firstname_final.iloc[:, 2:3])\n",
    "combined_firstname_final.head()"
   ]
  },
  {
   "cell_type": "code",
   "execution_count": 102,
   "metadata": {},
   "outputs": [
    {
     "name": "stdout",
     "output_type": "stream",
     "text": [
      "None\n"
     ]
    }
   ],
   "source": [
    "# Export txt file\n",
    "print(combined_firstname_final.to_csv(r'first_name_12_final.txt', header=None, index=None, sep=' ', mode='a'))"
   ]
  },
  {
   "cell_type": "code",
   "execution_count": 103,
   "metadata": {},
   "outputs": [
    {
     "data": {
      "text/plain": [
       "354748"
      ]
     },
     "execution_count": 103,
     "metadata": {},
     "output_type": "execute_result"
    }
   ],
   "source": [
    "len (combined_firstname_final)"
   ]
  },
  {
   "cell_type": "code",
   "execution_count": null,
   "metadata": {},
   "outputs": [],
   "source": []
  },
  {
   "cell_type": "code",
   "execution_count": null,
   "metadata": {},
   "outputs": [],
   "source": [
    "#combined_all = functools.reduce(cartesian, [df3, combined_firstname])"
   ]
  },
  {
   "cell_type": "code",
   "execution_count": null,
   "metadata": {},
   "outputs": [],
   "source": []
  },
  {
   "cell_type": "code",
   "execution_count": null,
   "metadata": {},
   "outputs": [],
   "source": []
  },
  {
   "cell_type": "code",
   "execution_count": 165,
   "metadata": {},
   "outputs": [],
   "source": [
    "# try\n",
    "#Testing('CtextTry.txt','CtextTry2.txt')\n",
    "\n",
    "#last_name.txt\n",
    "#Testing('last_name.txt','last_name_TC.txt')\n",
    "# 'firstname_12_only2Character.txt','firstname_12_only2Character_TC.txt')\n",
    "a = 'last_name.txt'\n",
    "b = 'last_name_TC.txt'\n",
    "\n",
    "dff = pd.read_csv(a, sep=\" \", header=None, names=[\"a\"])\n",
    "dff2 = pd.read_csv(b, sep=\" \", header=None, names=[\"b\"])\n",
    "#dff3 = pd.read_csv(b, sep=\" \", header=None, names=[\"a\"])\n",
    "\n",
    "df_all = pd.concat([dff, dff2], axis='columns',)\n",
    "#df_all = pd.concat([df, df2], \n",
    "                   #axis='columns', keys=['First', 'Second'])\n",
    "#display(df_all)"
   ]
  },
  {
   "cell_type": "code",
   "execution_count": 166,
   "metadata": {},
   "outputs": [],
   "source": [
    "#df_all = df_all[df_all[\"a\"] != df_all[\"b\"]]\n",
    "#display(df_all)"
   ]
  },
  {
   "cell_type": "code",
   "execution_count": null,
   "metadata": {},
   "outputs": [],
   "source": []
  },
  {
   "cell_type": "code",
   "execution_count": null,
   "metadata": {},
   "outputs": [],
   "source": []
  },
  {
   "cell_type": "code",
   "execution_count": null,
   "metadata": {},
   "outputs": [],
   "source": []
  },
  {
   "cell_type": "code",
   "execution_count": null,
   "metadata": {},
   "outputs": [],
   "source": []
  },
  {
   "cell_type": "code",
   "execution_count": 304,
   "metadata": {},
   "outputs": [],
   "source": [
    "def diff_df(df1, df2, how=\"left\"):\n",
    "    \"\"\"\n",
    "      Find Difference of rows for given two dataframes\n",
    "      this function is not symmetric, means\n",
    "            diff(x, y) != diff(y, x)\n",
    "      however\n",
    "            diff(x, y, how='left') == diff(y, x, how='right')\n",
    "\n",
    "      Ref: https://stackoverflow.com/questions/18180763/set-difference-for-pandas/40209800#40209800\n",
    "    \"\"\"\n",
    "    if (df1.columns != df2.columns).any():\n",
    "        raise ValueError(\"Two dataframe columns must match\")\n",
    "\n",
    "    if df1.equals(df2):\n",
    "        return None\n",
    "    elif how == 'right':\n",
    "        return pd.concat([df2, df1, df1]).drop_duplicates(keep=False)\n",
    "    elif how == 'left':\n",
    "        return pd.concat([df1, df2, df2]).drop_duplicates(keep=False)\n",
    "    else:\n",
    "        raise ValueError('how parameter supports only \"left\" or \"right keywords\"')"
   ]
  },
  {
   "cell_type": "code",
   "execution_count": 305,
   "metadata": {},
   "outputs": [
    {
     "data": {
      "text/html": [
       "<div>\n",
       "<style scoped>\n",
       "    .dataframe tbody tr th:only-of-type {\n",
       "        vertical-align: middle;\n",
       "    }\n",
       "\n",
       "    .dataframe tbody tr th {\n",
       "        vertical-align: top;\n",
       "    }\n",
       "\n",
       "    .dataframe thead th {\n",
       "        text-align: right;\n",
       "    }\n",
       "</style>\n",
       "<table border=\"1\" class=\"dataframe\">\n",
       "  <thead>\n",
       "    <tr style=\"text-align: right;\">\n",
       "      <th></th>\n",
       "      <th>a</th>\n",
       "    </tr>\n",
       "  </thead>\n",
       "  <tbody>\n",
       "    <tr>\n",
       "      <th>0</th>\n",
       "      <td>华</td>\n",
       "    </tr>\n",
       "    <tr>\n",
       "      <th>3</th>\n",
       "      <td>尔</td>\n",
       "    </tr>\n",
       "    <tr>\n",
       "      <th>7</th>\n",
       "      <td>生</td>\n",
       "    </tr>\n",
       "    <tr>\n",
       "      <th>8</th>\n",
       "      <td>军</td>\n",
       "    </tr>\n",
       "    <tr>\n",
       "      <th>10</th>\n",
       "      <td>东</td>\n",
       "    </tr>\n",
       "    <tr>\n",
       "      <th>12</th>\n",
       "      <td>伟</td>\n",
       "    </tr>\n",
       "    <tr>\n",
       "      <th>13</th>\n",
       "      <td>龙</td>\n",
       "    </tr>\n",
       "    <tr>\n",
       "      <th>14</th>\n",
       "      <td>峰</td>\n",
       "    </tr>\n",
       "    <tr>\n",
       "      <th>15</th>\n",
       "      <td>强</td>\n",
       "    </tr>\n",
       "    <tr>\n",
       "      <th>16</th>\n",
       "      <td>辉</td>\n",
       "    </tr>\n",
       "    <tr>\n",
       "      <th>18</th>\n",
       "      <td>杰</td>\n",
       "    </tr>\n",
       "    <tr>\n",
       "      <th>19</th>\n",
       "      <td>民</td>\n",
       "    </tr>\n",
       "    <tr>\n",
       "      <th>21</th>\n",
       "      <td>国</td>\n",
       "    </tr>\n",
       "    <tr>\n",
       "      <th>24</th>\n",
       "      <td>荣</td>\n",
       "    </tr>\n",
       "    <tr>\n",
       "      <th>25</th>\n",
       "      <td>红</td>\n",
       "    </tr>\n",
       "    <tr>\n",
       "      <th>27</th>\n",
       "      <td>刚</td>\n",
       "    </tr>\n",
       "    <tr>\n",
       "      <th>29</th>\n",
       "      <td>玲</td>\n",
       "    </tr>\n",
       "    <tr>\n",
       "      <th>30</th>\n",
       "      <td>春</td>\n",
       "    </tr>\n",
       "    <tr>\n",
       "      <th>31</th>\n",
       "      <td>斌</td>\n",
       "    </tr>\n",
       "    <tr>\n",
       "      <th>32</th>\n",
       "      <td>新</td>\n",
       "    </tr>\n",
       "    <tr>\n",
       "      <th>33</th>\n",
       "      <td>清</td>\n",
       "    </tr>\n",
       "    <tr>\n",
       "      <th>37</th>\n",
       "      <td>芳</td>\n",
       "    </tr>\n",
       "    <tr>\n",
       "      <th>38</th>\n",
       "      <td>云</td>\n",
       "    </tr>\n",
       "    <tr>\n",
       "      <th>39</th>\n",
       "      <td>光</td>\n",
       "    </tr>\n",
       "    <tr>\n",
       "      <th>40</th>\n",
       "      <td>涛</td>\n",
       "    </tr>\n",
       "    <tr>\n",
       "      <th>41</th>\n",
       "      <td>忠</td>\n",
       "    </tr>\n",
       "    <tr>\n",
       "      <th>42</th>\n",
       "      <td>良</td>\n",
       "    </tr>\n",
       "    <tr>\n",
       "      <th>43</th>\n",
       "      <td>亮</td>\n",
       "    </tr>\n",
       "    <tr>\n",
       "      <th>44</th>\n",
       "      <td>祥</td>\n",
       "    </tr>\n",
       "    <tr>\n",
       "      <th>45</th>\n",
       "      <td>飞</td>\n",
       "    </tr>\n",
       "    <tr>\n",
       "      <th>...</th>\n",
       "      <td>...</td>\n",
       "    </tr>\n",
       "    <tr>\n",
       "      <th>484</th>\n",
       "      <td>杨</td>\n",
       "    </tr>\n",
       "    <tr>\n",
       "      <th>485</th>\n",
       "      <td>邦</td>\n",
       "    </tr>\n",
       "    <tr>\n",
       "      <th>486</th>\n",
       "      <td>钟</td>\n",
       "    </tr>\n",
       "    <tr>\n",
       "      <th>488</th>\n",
       "      <td>帝</td>\n",
       "    </tr>\n",
       "    <tr>\n",
       "      <th>489</th>\n",
       "      <td>丝</td>\n",
       "    </tr>\n",
       "    <tr>\n",
       "      <th>490</th>\n",
       "      <td>姐</td>\n",
       "    </tr>\n",
       "    <tr>\n",
       "      <th>491</th>\n",
       "      <td>州</td>\n",
       "    </tr>\n",
       "    <tr>\n",
       "      <th>492</th>\n",
       "      <td>影</td>\n",
       "    </tr>\n",
       "    <tr>\n",
       "      <th>493</th>\n",
       "      <td>乔</td>\n",
       "    </tr>\n",
       "    <tr>\n",
       "      <th>494</th>\n",
       "      <td>竹</td>\n",
       "    </tr>\n",
       "    <tr>\n",
       "      <th>495</th>\n",
       "      <td>曦</td>\n",
       "    </tr>\n",
       "    <tr>\n",
       "      <th>496</th>\n",
       "      <td>实</td>\n",
       "    </tr>\n",
       "    <tr>\n",
       "      <th>497</th>\n",
       "      <td>潮</td>\n",
       "    </tr>\n",
       "    <tr>\n",
       "      <th>498</th>\n",
       "      <td>满</td>\n",
       "    </tr>\n",
       "    <tr>\n",
       "      <th>500</th>\n",
       "      <td>庚</td>\n",
       "    </tr>\n",
       "    <tr>\n",
       "      <th>501</th>\n",
       "      <td>第</td>\n",
       "    </tr>\n",
       "    <tr>\n",
       "      <th>502</th>\n",
       "      <td>翠</td>\n",
       "    </tr>\n",
       "    <tr>\n",
       "      <th>503</th>\n",
       "      <td>苏</td>\n",
       "    </tr>\n",
       "    <tr>\n",
       "      <th>506</th>\n",
       "      <td>济</td>\n",
       "    </tr>\n",
       "    <tr>\n",
       "      <th>508</th>\n",
       "      <td>萱</td>\n",
       "    </tr>\n",
       "    <tr>\n",
       "      <th>509</th>\n",
       "      <td>楼</td>\n",
       "    </tr>\n",
       "    <tr>\n",
       "      <th>510</th>\n",
       "      <td>范</td>\n",
       "    </tr>\n",
       "    <tr>\n",
       "      <th>513</th>\n",
       "      <td>谦</td>\n",
       "    </tr>\n",
       "    <tr>\n",
       "      <th>515</th>\n",
       "      <td>治</td>\n",
       "    </tr>\n",
       "    <tr>\n",
       "      <th>516</th>\n",
       "      <td>佑</td>\n",
       "    </tr>\n",
       "    <tr>\n",
       "      <th>517</th>\n",
       "      <td>娇</td>\n",
       "    </tr>\n",
       "    <tr>\n",
       "      <th>518</th>\n",
       "      <td>姗</td>\n",
       "    </tr>\n",
       "    <tr>\n",
       "      <th>519</th>\n",
       "      <td>二</td>\n",
       "    </tr>\n",
       "    <tr>\n",
       "      <th>521</th>\n",
       "      <td>圆</td>\n",
       "    </tr>\n",
       "    <tr>\n",
       "      <th>522</th>\n",
       "      <td>俭</td>\n",
       "    </tr>\n",
       "  </tbody>\n",
       "</table>\n",
       "<p>377 rows × 1 columns</p>\n",
       "</div>"
      ],
      "text/plain": [
       "     a\n",
       "0    华\n",
       "3    尔\n",
       "7    生\n",
       "8    军\n",
       "10   东\n",
       "12   伟\n",
       "13   龙\n",
       "14   峰\n",
       "15   强\n",
       "16   辉\n",
       "18   杰\n",
       "19   民\n",
       "21   国\n",
       "24   荣\n",
       "25   红\n",
       "27   刚\n",
       "29   玲\n",
       "30   春\n",
       "31   斌\n",
       "32   新\n",
       "33   清\n",
       "37   芳\n",
       "38   云\n",
       "39   光\n",
       "40   涛\n",
       "41   忠\n",
       "42   良\n",
       "43   亮\n",
       "44   祥\n",
       "45   飞\n",
       "..  ..\n",
       "484  杨\n",
       "485  邦\n",
       "486  钟\n",
       "488  帝\n",
       "489  丝\n",
       "490  姐\n",
       "491  州\n",
       "492  影\n",
       "493  乔\n",
       "494  竹\n",
       "495  曦\n",
       "496  实\n",
       "497  潮\n",
       "498  满\n",
       "500  庚\n",
       "501  第\n",
       "502  翠\n",
       "503  苏\n",
       "506  济\n",
       "508  萱\n",
       "509  楼\n",
       "510  范\n",
       "513  谦\n",
       "515  治\n",
       "516  佑\n",
       "517  娇\n",
       "518  姗\n",
       "519  二\n",
       "521  圆\n",
       "522  俭\n",
       "\n",
       "[377 rows x 1 columns]"
      ]
     },
     "execution_count": 305,
     "metadata": {},
     "output_type": "execute_result"
    }
   ],
   "source": [
    "diff_df(dff, dff3)"
   ]
  },
  {
   "cell_type": "markdown",
   "metadata": {},
   "source": [
    "# first - first name\n",
    "志  誌\n",
    "克  剋\n",
    "冬  鼕\n",
    "凌  淩\n",
    "蒙  濛\n",
    "卜  蔔\n",
    "千  韆"
   ]
  },
  {
   "cell_type": "code",
   "execution_count": null,
   "metadata": {},
   "outputs": [],
   "source": []
  },
  {
   "cell_type": "code",
   "execution_count": 128,
   "metadata": {},
   "outputs": [
    {
     "data": {
      "text/plain": [
       "0    False\n",
       "1    False\n",
       "2    False\n",
       "Name: a, dtype: bool"
      ]
     },
     "execution_count": 128,
     "metadata": {},
     "output_type": "execute_result"
    }
   ],
   "source": [
    "df_all['a'].isin(df_all['b'])"
   ]
  },
  {
   "cell_type": "code",
   "execution_count": null,
   "metadata": {},
   "outputs": [],
   "source": []
  },
  {
   "cell_type": "code",
   "execution_count": null,
   "metadata": {},
   "outputs": [],
   "source": []
  },
  {
   "cell_type": "code",
   "execution_count": null,
   "metadata": {},
   "outputs": [],
   "source": []
  },
  {
   "cell_type": "code",
   "execution_count": null,
   "metadata": {},
   "outputs": [],
   "source": []
  },
  {
   "cell_type": "code",
   "execution_count": null,
   "metadata": {},
   "outputs": [],
   "source": []
  },
  {
   "cell_type": "code",
   "execution_count": 133,
   "metadata": {},
   "outputs": [
    {
     "name": "stdout",
     "output_type": "stream",
     "text": [
      "========\n",
      "{'畅', '韩', '纽', '毕', '劳', '钟', '孙', '闵', '内', '谈', '东', '寿', '余', '马', '阳', '宫', '岳', '银', '刘', '维', '麦', '汉', '库', '蔺', '晋', '诺', '宾', '纪', '里', '云', '蓝', '巩', '乐', '爱', '齐', '满', '邝', '姜', '单', '练', '钮', '铁', '达', '诸', '权', '蒋', '迟', '凤', '乌', '陆', '严', '陈', '费', '时', '赵', '松', '乔', '凯', '怀', '顾', '缪', '区', '庄', '琼', '别', '涂', '卜', '盖', '丛', '凌', '贾', '储', '荣', '赛', '绍', '约', '冯', '苏', '应', '纳', '汤', '叶', '宁', '杨', '连', '关', '温', '萧', '农', '伦', '邬', '杰', '于', '谢', '贡', '帅', '萨', '郁', '兴', '亚', '项', '邹', '蒙', '吕', '赖', '广', '庞', '吴', '习', '郑', '贝', '让', '经', '舍', '车', '卫', '欧', '华', '闻', '简', '向', '迈', '邓', '国', '谷', '许', '窦', '鲁', '钱', '娄', '闫', '丰', '范', '莱', '优', '谌', '才', '宝', '千', '尔', '荆', '兰', '泽', '贺', '万', '卢', '买', '强', '龙', '楼', '骆', '饶', '黄', '热', '党', '曲', '阎', '聂', '回', '扎', '朴', '边', '师', '游', '扬', '奥', '门', '沈', '丽', '张', '罗', '鲍', '来', '阙', '励', '圣', '韦', '颜', '图', '谭', '龚', '玛'}\n",
      "{'歐', '習', '許', '關', '維', '濛', '饒', '馬', '榖', '闕', '陽', '麯', '簡', '熱', '蔔', '暢', '區', '陸', '豐', '瀋', '賈', '瓊', '餘', '瑪', '莊', '韋', '庫', '權', '練', '劉', '賽', '帥', '塗', '讓', '鬱', '錢', '談', '榮', '國', '呂', '滿', '寜', '雲', '紹', '聞', '鄒', '倫', '蓋', '纔', '達', '賀', '鞏', '納', '孫', '連', '聖', '費', '顧', '來', '勞', '勵', '諸', '師', '淩', '強', '蕭', '萬', '韆', '嶽', '紀', '鄭', '壽', '婁', '龔', '顔', '圖', '晉', '閆', '蔣', '鄧', '約', '時', '單', '樓', '麗', '諶', '遊', '葉', '賴', '盧', '迴', '於', '藺', '羅', '鄔', '楊', '經', '凱', '湯', '鮑', '陳', '趙', '鳳', '藍', '龍', '蘭', '烏', '譚', '懷', '衛', '鬆', '車', '嚮', '紮', '鍾', '喬', '薩', '薑', '貝', '裏', '揚', '荊', '閔', '門', '澤', '寶', '萊', '農', '謝', '溫', '龐', '黃', '竇', '應', '興', '爾', '諾', '鐵', '魯', '韓', '項', '鄺', '儲', '嚴', '銀', '內', '貢', '叢', '傑', '買', '蘇', '廣', '亞', '閻', '邁', '華', '畢', '黨', '東', '繆', '宮', '優', '鈕', '漢', '賓', '彆', '遲', '愛', '聶', '吳', '馮', '駱', '樸', '齊', '奧', '捨', '紐', '範', '麥', '樂', '邊', '張'}\n",
      "========\n"
     ]
    }
   ],
   "source": [
    "# Convert to String\n",
    "# 'last_name.txt','last_name_TC.txt'\n",
    "\n",
    "with open('last_name.txt', 'r') as f:\n",
    "    myNames2 = [line.strip() for line in f]\n",
    "    str2 = ''.join(myNames2)\n",
    "    #print (myNames2)\n",
    "with open('last_name_TC.txt', 'r') as f:\n",
    "    myNames3 = [line.strip() for line in f]\n",
    "    str3 = ''.join(myNames3)\n",
    "    #print (myNames3)\n",
    "HanziConv.same(str2, str3)\n",
    "compare_different(str2, str3)"
   ]
  },
  {
   "cell_type": "code",
   "execution_count": 134,
   "metadata": {},
   "outputs": [],
   "source": [
    "set_old = set(str2)\n",
    "set_new = set(str3)"
   ]
  },
  {
   "cell_type": "code",
   "execution_count": 135,
   "metadata": {},
   "outputs": [
    {
     "name": "stdout",
     "output_type": "stream",
     "text": [
      "{'畅', '韩', '纽', '毕', '劳', '钟', '孙', '闵', '内', '谈', '东', '寿', '余', '马', '阳', '宫', '岳', '银', '刘', '维', '麦', '汉', '库', '蔺', '晋', '诺', '宾', '纪', '里', '云', '蓝', '巩', '乐', '爱', '齐', '满', '邝', '姜', '单', '练', '钮', '铁', '达', '诸', '权', '蒋', '迟', '凤', '乌', '陆', '严', '陈', '费', '时', '赵', '松', '乔', '凯', '怀', '顾', '缪', '区', '庄', '琼', '别', '涂', '卜', '盖', '丛', '凌', '贾', '储', '荣', '赛', '绍', '约', '冯', '苏', '应', '纳', '汤', '叶', '宁', '杨', '连', '关', '温', '萧', '农', '伦', '邬', '杰', '于', '谢', '贡', '帅', '萨', '郁', '兴', '亚', '项', '邹', '蒙', '吕', '赖', '广', '庞', '吴', '习', '郑', '贝', '让', '经', '舍', '车', '卫', '欧', '华', '闻', '简', '向', '迈', '邓', '国', '谷', '许', '窦', '鲁', '钱', '娄', '闫', '丰', '范', '莱', '优', '谌', '才', '宝', '千', '尔', '荆', '兰', '泽', '贺', '万', '卢', '买', '强', '龙', '楼', '骆', '饶', '黄', '热', '党', '曲', '阎', '聂', '回', '扎', '朴', '边', '师', '游', '扬', '奥', '门', '沈', '丽', '张', '罗', '鲍', '来', '阙', '励', '圣', '韦', '颜', '图', '谭', '龚', '玛'}\n"
     ]
    }
   ],
   "source": [
    "print(set_old-set_new)\n",
    "ALL_CHAR = set()\n",
    "for element in set_new-set_old:\n",
    "    ALL_CHAR.add(element)"
   ]
  },
  {
   "cell_type": "code",
   "execution_count": 136,
   "metadata": {},
   "outputs": [
    {
     "data": {
      "text/plain": [
       "{'亞',\n",
       " '來',\n",
       " '倫',\n",
       " '傑',\n",
       " '優',\n",
       " '儲',\n",
       " '內',\n",
       " '凱',\n",
       " '劉',\n",
       " '勞',\n",
       " '勵',\n",
       " '區',\n",
       " '叢',\n",
       " '吳',\n",
       " '呂',\n",
       " '喬',\n",
       " '單',\n",
       " '嚮',\n",
       " '嚴',\n",
       " '國',\n",
       " '圖',\n",
       " '塗',\n",
       " '壽',\n",
       " '奧',\n",
       " '婁',\n",
       " '孫',\n",
       " '宮',\n",
       " '寜',\n",
       " '寶',\n",
       " '嶽',\n",
       " '帥',\n",
       " '師',\n",
       " '庫',\n",
       " '廣',\n",
       " '張',\n",
       " '強',\n",
       " '彆',\n",
       " '愛',\n",
       " '應',\n",
       " '懷',\n",
       " '捨',\n",
       " '揚',\n",
       " '於',\n",
       " '時',\n",
       " '晉',\n",
       " '暢',\n",
       " '東',\n",
       " '楊',\n",
       " '榖',\n",
       " '榮',\n",
       " '樂',\n",
       " '樓',\n",
       " '樸',\n",
       " '權',\n",
       " '歐',\n",
       " '淩',\n",
       " '湯',\n",
       " '溫',\n",
       " '滿',\n",
       " '漢',\n",
       " '澤',\n",
       " '濛',\n",
       " '瀋',\n",
       " '烏',\n",
       " '熱',\n",
       " '爾',\n",
       " '瑪',\n",
       " '瓊',\n",
       " '畢',\n",
       " '盧',\n",
       " '竇',\n",
       " '範',\n",
       " '簡',\n",
       " '紀',\n",
       " '約',\n",
       " '納',\n",
       " '紐',\n",
       " '紮',\n",
       " '紹',\n",
       " '經',\n",
       " '維',\n",
       " '練',\n",
       " '繆',\n",
       " '纔',\n",
       " '羅',\n",
       " '習',\n",
       " '聖',\n",
       " '聞',\n",
       " '聶',\n",
       " '興',\n",
       " '荊',\n",
       " '莊',\n",
       " '華',\n",
       " '萊',\n",
       " '萬',\n",
       " '葉',\n",
       " '蓋',\n",
       " '蔔',\n",
       " '蔣',\n",
       " '蕭',\n",
       " '薑',\n",
       " '薩',\n",
       " '藍',\n",
       " '藺',\n",
       " '蘇',\n",
       " '蘭',\n",
       " '衛',\n",
       " '裏',\n",
       " '許',\n",
       " '談',\n",
       " '諶',\n",
       " '諸',\n",
       " '諾',\n",
       " '謝',\n",
       " '譚',\n",
       " '讓',\n",
       " '豐',\n",
       " '貝',\n",
       " '貢',\n",
       " '買',\n",
       " '費',\n",
       " '賀',\n",
       " '賈',\n",
       " '賓',\n",
       " '賴',\n",
       " '賽',\n",
       " '趙',\n",
       " '車',\n",
       " '農',\n",
       " '迴',\n",
       " '連',\n",
       " '遊',\n",
       " '達',\n",
       " '遲',\n",
       " '邁',\n",
       " '邊',\n",
       " '鄒',\n",
       " '鄔',\n",
       " '鄧',\n",
       " '鄭',\n",
       " '鄺',\n",
       " '鈕',\n",
       " '銀',\n",
       " '錢',\n",
       " '鍾',\n",
       " '鐵',\n",
       " '門',\n",
       " '閆',\n",
       " '閔',\n",
       " '閻',\n",
       " '闕',\n",
       " '關',\n",
       " '陳',\n",
       " '陸',\n",
       " '陽',\n",
       " '雲',\n",
       " '鞏',\n",
       " '韆',\n",
       " '韋',\n",
       " '韓',\n",
       " '項',\n",
       " '顔',\n",
       " '顧',\n",
       " '餘',\n",
       " '饒',\n",
       " '馬',\n",
       " '馮',\n",
       " '駱',\n",
       " '鬆',\n",
       " '鬱',\n",
       " '魯',\n",
       " '鮑',\n",
       " '鳳',\n",
       " '麗',\n",
       " '麥',\n",
       " '麯',\n",
       " '黃',\n",
       " '黨',\n",
       " '齊',\n",
       " '龍',\n",
       " '龐',\n",
       " '龔'}"
      ]
     },
     "execution_count": 136,
     "metadata": {},
     "output_type": "execute_result"
    }
   ],
   "source": [
    "ALL_CHAR"
   ]
  },
  {
   "cell_type": "code",
   "execution_count": null,
   "metadata": {},
   "outputs": [],
   "source": []
  },
  {
   "cell_type": "code",
   "execution_count": null,
   "metadata": {},
   "outputs": [],
   "source": [
    "# Compare strings\n",
    "def compare_different(question_old, question_new):\n",
    "    ALL_CHAR = set()\n",
    "    if question_old != question_new:\n",
    "        print(\"========\")\n",
    "        set_old = set(question_old)\n",
    "        set_new = set(question_new)\n",
    "        print(set_old-set_new)\n",
    "        print(set_new-set_old)\n",
    "        for element in set_new-set_old:\n",
    "            ALL_CHAR.add(element)\n",
    "        print(\"========\")"
   ]
  },
  {
   "cell_type": "code",
   "execution_count": null,
   "metadata": {},
   "outputs": [],
   "source": [
    "# Compare strings\n",
    "compare_different(question_old, question_new):\n"
   ]
  },
  {
   "cell_type": "code",
   "execution_count": null,
   "metadata": {},
   "outputs": [],
   "source": []
  },
  {
   "cell_type": "code",
   "execution_count": null,
   "metadata": {},
   "outputs": [],
   "source": []
  },
  {
   "cell_type": "code",
   "execution_count": null,
   "metadata": {},
   "outputs": [],
   "source": []
  },
  {
   "cell_type": "code",
   "execution_count": null,
   "metadata": {},
   "outputs": [],
   "source": [
    "#df4 = pd.DataFrame(df2.iloc[:, 1:2])\n",
    "#df5 = pd.DataFrame(df2.iloc[:, 2:3])\n",
    "#print (df4.head())\n",
    "#print (df5.head())\n",
    "#df4 = df4['B1'].unique()\n",
    "#df8 = pd.DataFrame({'B1':df4})\n",
    "#print (df8)\n",
    "#df5 = df5['B2'].unique()\n",
    "#df9 = pd.DataFrame({'B2':df5})\n",
    "#print (df9)"
   ]
  },
  {
   "cell_type": "code",
   "execution_count": null,
   "metadata": {},
   "outputs": [],
   "source": []
  },
  {
   "cell_type": "code",
   "execution_count": null,
   "metadata": {},
   "outputs": [],
   "source": []
  },
  {
   "cell_type": "code",
   "execution_count": null,
   "metadata": {},
   "outputs": [],
   "source": [
    "def cartesian(df1, df2):\n",
    "    rows = itertools.product(df1.iterrows(), df2.iterrows())   \n",
    "    #print (rows)\n",
    "    df = pd.DataFrame(left.append(right) for (_, left), (_, right) in rows)\n",
    "    print (rows)\n",
    "    return df.reset_index(drop=True)"
   ]
  },
  {
   "cell_type": "code",
   "execution_count": null,
   "metadata": {},
   "outputs": [],
   "source": []
  },
  {
   "cell_type": "code",
   "execution_count": null,
   "metadata": {},
   "outputs": [],
   "source": [
    "#combined = functools.reduce(cartesian, [df7, df8, df9])"
   ]
  },
  {
   "cell_type": "code",
   "execution_count": null,
   "metadata": {},
   "outputs": [],
   "source": [
    "len (combined)"
   ]
  },
  {
   "cell_type": "code",
   "execution_count": null,
   "metadata": {},
   "outputs": [],
   "source": [
    "print(combined.tail())"
   ]
  },
  {
   "cell_type": "code",
   "execution_count": null,
   "metadata": {},
   "outputs": [],
   "source": []
  },
  {
   "cell_type": "markdown",
   "metadata": {},
   "source": [
    "# Compare dataframes"
   ]
  },
  {
   "cell_type": "code",
   "execution_count": 137,
   "metadata": {},
   "outputs": [],
   "source": [
    "def diff_df(df1, df2, how=\"left\"):\n",
    "    \"\"\"\n",
    "      Find Difference of rows for given two dataframes\n",
    "      this function is not symmetric, means\n",
    "            diff(x, y) != diff(y, x)\n",
    "      however\n",
    "            diff(x, y, how='left') == diff(y, x, how='right')\n",
    "\n",
    "      Ref: https://stackoverflow.com/questions/18180763/set-difference-for-pandas/40209800#40209800\n",
    "    \"\"\"\n",
    "    if (df1.columns != df2.columns).any():\n",
    "        raise ValueError(\"Two dataframe columns must match\")\n",
    "\n",
    "    if df1.equals(df2):\n",
    "        return None\n",
    "    elif how == 'right':\n",
    "        return pd.concat([df2, df1, df1]).drop_duplicates(keep=False)\n",
    "    elif how == 'left':\n",
    "        return pd.concat([df1, df2, df2]).drop_duplicates(keep=False)\n",
    "    else:\n",
    "        raise ValueError('how parameter supports only \"left\" or \"right keywords\"')"
   ]
  },
  {
   "cell_type": "code",
   "execution_count": null,
   "metadata": {},
   "outputs": [],
   "source": [
    "def diff_df(df1, df2, how=\"left\"):\n",
    "    \"\"\"\n",
    "      Find Difference of rows for given two dataframes\n",
    "      this function is not symmetric, means\n",
    "            diff(x, y) != diff(y, x)\n",
    "      however\n",
    "            diff(x, y, how='left') == diff(y, x, how='right')\n",
    "\n",
    "      Ref: https://stackoverflow.com/questions/18180763/set-difference-for-pandas/40209800#40209800\n",
    "    \"\"\"\n",
    "    if (df1.columns != df2.columns).any():\n",
    "        raise ValueError(\"Two dataframe columns must match\")\n",
    "\n",
    "    if df1.equals(df2):\n",
    "        return None\n",
    "    elif how == 'right':\n",
    "        return pd.concat([df2, df1, df1]).drop_duplicates(keep=False)\n",
    "    elif how == 'left':\n",
    "        return pd.concat([df1, df2, df2]).drop_duplicates(keep=False)\n",
    "    else:\n",
    "        raise ValueError('how parameter supports only \"left\" or \"right keywords\"')"
   ]
  },
  {
   "cell_type": "code",
   "execution_count": 116,
   "metadata": {},
   "outputs": [
    {
     "data": {
      "text/html": [
       "<div>\n",
       "<style scoped>\n",
       "    .dataframe tbody tr th:only-of-type {\n",
       "        vertical-align: middle;\n",
       "    }\n",
       "\n",
       "    .dataframe tbody tr th {\n",
       "        vertical-align: top;\n",
       "    }\n",
       "\n",
       "    .dataframe thead th {\n",
       "        text-align: right;\n",
       "    }\n",
       "</style>\n",
       "<table border=\"1\" class=\"dataframe\">\n",
       "  <thead>\n",
       "    <tr style=\"text-align: right;\">\n",
       "      <th></th>\n",
       "      <th>Name</th>\n",
       "      <th>score</th>\n",
       "      <th>isEnrolled</th>\n",
       "      <th>Comment</th>\n",
       "    </tr>\n",
       "    <tr>\n",
       "      <th>id</th>\n",
       "      <th></th>\n",
       "      <th></th>\n",
       "      <th></th>\n",
       "      <th></th>\n",
       "    </tr>\n",
       "  </thead>\n",
       "  <tbody>\n",
       "    <tr>\n",
       "      <th>112</th>\n",
       "      <td>Nick</td>\n",
       "      <td>1.11</td>\n",
       "      <td>False</td>\n",
       "      <td>Graduated</td>\n",
       "    </tr>\n",
       "    <tr>\n",
       "      <th>113</th>\n",
       "      <td>Zoe</td>\n",
       "      <td>NaN</td>\n",
       "      <td>True</td>\n",
       "      <td></td>\n",
       "    </tr>\n",
       "  </tbody>\n",
       "</table>\n",
       "</div>"
      ],
      "text/plain": [
       "     Name  score  isEnrolled    Comment\n",
       "id                                     \n",
       "112  Nick   1.11       False  Graduated\n",
       "113   Zoe    NaN        True           "
      ]
     },
     "execution_count": 116,
     "metadata": {},
     "output_type": "execute_result"
    }
   ],
   "source": [
    "import sys\n",
    "if sys.version_info[0] < 3:\n",
    "    from StringIO import StringIO\n",
    "else:\n",
    "    from io import StringIO\n",
    "\n",
    "DF1 = StringIO(\"\"\"id   Name   score                    isEnrolled           Comment\n",
    "111  Jack   2.17                     True                 \"He was late to class\"\n",
    "112  Nick   1.11                     False                \"Graduated\"\n",
    "113  Zoe    NaN                     True                  \" \"\n",
    "\"\"\")\n",
    "DF2 = StringIO(\"\"\"id   Name   score                    isEnrolled           Comment\n",
    "111  Jack   2.17                     True                 \"He was late to class\"\n",
    "112  Nick   1.21                     False                \"Graduated\"\n",
    "113  Zoe    NaN                     False                \"On vacation\" \"\"\")\n",
    "df1 = pd.read_table(DF1, sep='\\s+', index_col='id')\n",
    "df2 = pd.read_table(DF2, sep='\\s+', index_col='id')\n",
    "diff_df(df1, df2)"
   ]
  },
  {
   "cell_type": "markdown",
   "metadata": {},
   "source": [
    "# Translate Simple chinese to traditional chinese"
   ]
  },
  {
   "cell_type": "code",
   "execution_count": null,
   "metadata": {},
   "outputs": [],
   "source": [
    "from hanziconv import HanziConv\n",
    "import pandas as pd\n",
    "print(HanziConv.toSimplified('繁簡轉換器'))\n",
    "print(HanziConv.toTraditional('繁简转换器'))\n",
    "HanziConv.same('繁簡轉換器', '繁简转换器')"
   ]
  },
  {
   "cell_type": "code",
   "execution_count": null,
   "metadata": {
    "scrolled": true
   },
   "outputs": [],
   "source": [
    "data1 = pd.read_csv('https://raw.githubusercontent.com/fung1091/profile/master/worksample/combin.txt')\n",
    "data1.columns = [\"a\"]\n",
    "print (data1.head())"
   ]
  },
  {
   "cell_type": "code",
   "execution_count": null,
   "metadata": {},
   "outputs": [],
   "source": [
    "HanziConv.toTraditional(data1)"
   ]
  },
  {
   "cell_type": "code",
   "execution_count": null,
   "metadata": {},
   "outputs": [],
   "source": []
  },
  {
   "cell_type": "code",
   "execution_count": null,
   "metadata": {},
   "outputs": [],
   "source": [
    "## Translate from simple chinese to traditional chinese by using list"
   ]
  },
  {
   "cell_type": "code",
   "execution_count": null,
   "metadata": {},
   "outputs": [],
   "source": [
    "with open('CtextTry.txt', 'r') as f:\n",
    "    myNames = [line.strip() for line in f]\n",
    "    print (myNames)"
   ]
  },
  {
   "cell_type": "code",
   "execution_count": null,
   "metadata": {},
   "outputs": [],
   "source": [
    "myNames"
   ]
  },
  {
   "cell_type": "code",
   "execution_count": null,
   "metadata": {},
   "outputs": [],
   "source": [
    "str1 = ''.join(myNames)\n",
    "str1"
   ]
  },
  {
   "cell_type": "code",
   "execution_count": null,
   "metadata": {},
   "outputs": [],
   "source": [
    "z = HanziConv.toTraditional(str1)\n",
    "z"
   ]
  },
  {
   "cell_type": "code",
   "execution_count": null,
   "metadata": {},
   "outputs": [],
   "source": [
    "import re\n",
    "y = [x for x in re.split(r'(\\w{5})', x) if x]\n",
    "y"
   ]
  },
  {
   "cell_type": "code",
   "execution_count": null,
   "metadata": {},
   "outputs": [],
   "source": [
    "HanziConv.same(str1, x)"
   ]
  },
  {
   "cell_type": "code",
   "execution_count": null,
   "metadata": {},
   "outputs": [],
   "source": [
    "def itersplit_into_x_chunks(string,x=10): # we assume here that x is an int and > 0\n",
    "    size = len(string)\n",
    "    chunksize = size//x\n",
    "    for pos in range(0, size, chunksize):\n",
    "        yield string[pos:pos+chunksize]"
   ]
  },
  {
   "cell_type": "code",
   "execution_count": null,
   "metadata": {},
   "outputs": [],
   "source": [
    "yy = list(itersplit_into_x_chunks(z,x=3))\n",
    "yy"
   ]
  },
  {
   "cell_type": "code",
   "execution_count": null,
   "metadata": {},
   "outputs": [],
   "source": [
    "z\n",
    "x = 5\n",
    "for y in range(x, len(z)+x,x):\n",
    "    print (y)"
   ]
  },
  {
   "cell_type": "code",
   "execution_count": null,
   "metadata": {},
   "outputs": [],
   "source": [
    "\n",
    "x=5 \n",
    "res=[z[y-x:y] for y in range(x, len(z)+x,x)]\n",
    "print(res)"
   ]
  },
  {
   "cell_type": "code",
   "execution_count": null,
   "metadata": {},
   "outputs": [],
   "source": [
    "HanziConv.same(myNames, res)"
   ]
  },
  {
   "cell_type": "code",
   "execution_count": null,
   "metadata": {},
   "outputs": [],
   "source": [
    "HanziConv.same(myNames, yy)"
   ]
  },
  {
   "cell_type": "code",
   "execution_count": null,
   "metadata": {},
   "outputs": [],
   "source": [
    "myNames == myNames"
   ]
  },
  {
   "cell_type": "code",
   "execution_count": null,
   "metadata": {},
   "outputs": [],
   "source": [
    "with open('CtextTry2.txt', 'w') as f:\n",
    "    for item in res:\n",
    "        f.write(\"%s\\n\" % item)"
   ]
  },
  {
   "cell_type": "code",
   "execution_count": null,
   "metadata": {},
   "outputs": [],
   "source": [
    "with open(\"CtextTry1.txt\", \"w\") as output:\n",
    "    output.write(str(res))"
   ]
  },
  {
   "cell_type": "code",
   "execution_count": null,
   "metadata": {},
   "outputs": [],
   "source": [
    "with open('CtextTry.txt', 'r') as f:\n",
    "    myNames2 = [line.strip() for line in f]\n",
    "    print (myNames2)"
   ]
  },
  {
   "cell_type": "code",
   "execution_count": null,
   "metadata": {},
   "outputs": [],
   "source": [
    "with open('CtextTry2.txt', 'r') as f:\n",
    "    myNames3 = [line.strip() for line in f]\n",
    "    print (myNames3)"
   ]
  },
  {
   "cell_type": "code",
   "execution_count": null,
   "metadata": {},
   "outputs": [],
   "source": [
    "str2 = ''.join(myNames2)\n",
    "str3 = ''.join(myNames3)"
   ]
  },
  {
   "cell_type": "code",
   "execution_count": null,
   "metadata": {},
   "outputs": [],
   "source": [
    "HanziConv.same(str2, str3)"
   ]
  },
  {
   "cell_type": "code",
   "execution_count": null,
   "metadata": {},
   "outputs": [],
   "source": []
  }
 ],
 "metadata": {
  "kernelspec": {
   "display_name": "Python 3",
   "language": "python",
   "name": "python3"
  },
  "language_info": {
   "codemirror_mode": {
    "name": "ipython",
    "version": 3
   },
   "file_extension": ".py",
   "mimetype": "text/x-python",
   "name": "python",
   "nbconvert_exporter": "python",
   "pygments_lexer": "ipython3",
   "version": "3.7.1"
  }
 },
 "nbformat": 4,
 "nbformat_minor": 2
}
